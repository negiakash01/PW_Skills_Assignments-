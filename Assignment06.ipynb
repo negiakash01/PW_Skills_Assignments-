{
  "nbformat": 4,
  "nbformat_minor": 0,
  "metadata": {
    "colab": {
      "provenance": []
    },
    "kernelspec": {
      "name": "python3",
      "display_name": "Python 3"
    },
    "language_info": {
      "name": "python"
    }
  },
  "cells": [
    {
      "cell_type": "markdown",
      "source": [
        "# Assignment 06 - Data Toolkit"
      ],
      "metadata": {
        "id": "xsQO7AcL2BVK"
      }
    },
    {
      "cell_type": "markdown",
      "source": [
        "## Theory Answers"
      ],
      "metadata": {
        "id": "-FV-gpVI2BSf"
      }
    },
    {
      "cell_type": "markdown",
      "source": [
        "### Question 01 --> What is NumPy, and why is it widely used in Python?\n",
        "\n",
        "***Ans -->*** NumPy (Numerical Python) is an open-source Python library widely used for numerical and scientific computing. It provides a powerful N-dimensional array object called ndarray, which allows efficient storage and manipulation of homogeneous data in contiguous memory blocks.      "
      ],
      "metadata": {
        "id": "G7hCaxPC2BPd"
      }
    },
    {
      "cell_type": "markdown",
      "source": [
        "### Question 02 --> A How does broadcasting work in NumPy?\n",
        "***Ans -->*** Broadcasting in NumPy is a powerful mechanism that allows arithmetic operations to be performed on arrays of different shapes without explicitly reshaping them. When two arrays have different shapes, NumPy automatically \"stretches\" or replicates the smaller array along the dimensions with size 1 so that their shapes become compatible for element-wise operations."
      ],
      "metadata": {
        "id": "wBfddIo53DIu"
      }
    },
    {
      "cell_type": "markdown",
      "source": [
        "### Question 03 --> What is a Pandas DataFrame?\n",
        "***Ans -->*** A Pandas DataFrame is a two-dimensional, labeled data structure in Python that organizes data into rows and columns, similar to a table in a database or a spreadsheet. Each column in a DataFrame can contain different data types (e.g., integers, floats, strings). It is widely used for data manipulation and analysis because it provides powerful capabilities to filter, sort, merge, group, and transform data efficiently."
      ],
      "metadata": {
        "id": "g5px95ND3C_6"
      }
    },
    {
      "cell_type": "markdown",
      "source": [
        "### Question 04 --> Explain the use of the groupby() method in Pandas.\n",
        "\n",
        "***Ans -->*** The groupby() method in Pandas is used to group data in a DataFrame based on one or more columns or criteria. It follows a \"split-apply-combine\" strategy: first, it splits the DataFrame into groups based on unique values in the specified column(s); then, it applies a function (such as aggregation, transformation, or filtering) independently to each group; finally, it combines the results into a new DataFrame or Series."
      ],
      "metadata": {
        "id": "8RKEAq7K3C5H"
      }
    },
    {
      "cell_type": "markdown",
      "source": [
        "### Question 05 -->  Why is Seaborn preferred for statistical visualizations?\n",
        "\n",
        "***Ans -->*** Seaborn is preferred for statistical visualizations because it provides a high-level interface built on top of Matplotlib that simplifies creating informative and attractive statistical graphics with minimal code. It comes with beautiful default themes, color palettes, and styles that make visualizations more appealing without additional customization effort. Seaborn supports specialized statistical plots like violin plots, heatmaps, categorical plots, regression plots, and time-series visualizations, which are either complex or not readily available in Matplotlib."
      ],
      "metadata": {
        "id": "E3QR0iHB3Cy5"
      }
    },
    {
      "cell_type": "markdown",
      "source": [
        "### Question 06 --> What are the differences between NumPy arrays and Python lists?\n",
        "Ans --> The key differences between NumPy arrays and Python lists are:\n",
        "\n",
        "***Data Type:*** NumPy arrays are homogeneous, meaning all elements must be of the same data type (e.g., all integers or all floats). Python lists can contain heterogeneous data types mixed together.\n",
        "\n",
        "***Memory Efficiency:*** NumPy arrays store elements in contiguous memory locations, making them more memory efficient. Python lists store references to objects, which adds overhead and can cause memory fragmentation."
      ],
      "metadata": {
        "id": "B-Ew5Bq03CsA"
      }
    },
    {
      "cell_type": "markdown",
      "source": [
        "### Question 07 --> What is a heatmap, and when should it be used?\n",
        "\n",
        "Ans --> A heatmap is a two-dimensional data visualization technique that represents numerical values in a grid or matrix format using colors. Each cell's color intensity or hue corresponds to the magnitude of the data point it represents—typically, warmer colors (like red) indicate higher values, and cooler colors (like blue) indicate lower values. This makes it easy to quickly identify patterns, trends, correlations, and anomalies within large or complex datasets."
      ],
      "metadata": {
        "id": "BPuIich83ClQ"
      }
    },
    {
      "cell_type": "markdown",
      "source": [
        "### Question 08 --> What does the term “vectorized operation” mean in NumPy?\n",
        "\n",
        "***Ans -->*** In NumPy, a \"vectorized operation\" refers to performing mathematical or logical operations on entire arrays directly, without the need for explicit loops in the code. Instead of iterating over elements one by one (like with a for-loop in Python), these operations are executed on whole arrays at once using highly optimized, low-level C-based implementations."
      ],
      "metadata": {
        "id": "Dw7rrskL3Cet"
      }
    },
    {
      "cell_type": "markdown",
      "source": [
        "### Question 09 --> How does Matplotlib differ from Plotly?\n",
        "\n",
        "***Ans -->*** **Matplotlib** is a mature, widely-used Python library primarily for creating static, publication-quality plots. It offers fine-grained control over plot elements, making it suitable for detailed and complex visualizations. However, Matplotlib’s plots are usually static images, with limited interactivity mostly available through extra effort or third-party tools.\n",
        "\n",
        "**Plotly** is a more modern library designed for creating interactive, web-ready visualizations by default. Its charts support zooming, panning, tooltips, and dynamic updates, making it ideal for data exploration and dashboards. Plotly also integrates well with Python web frameworks to build interactive data apps."
      ],
      "metadata": {
        "id": "9xrmR5Up3CYm"
      }
    },
    {
      "cell_type": "markdown",
      "source": [
        "### Question 10 --> What is the significance of hierarchical indexing in Pandas?\n",
        "\n",
        "***Ans -->***  Hierarchical indexing enhances Pandas’ ability to store, manipulate, and analyze complex, multi-dimensional data within familiar tabular formats, enabling more powerful and flexible data analysis workflows."
      ],
      "metadata": {
        "id": "HyZveorh3CR9"
      }
    },
    {
      "cell_type": "markdown",
      "source": [
        "Question 11 --> What is the role of Seaborn’s pairplot() function?\n",
        "\n",
        "Ans --> Seaborn’s pairplot() function is used to visualize pairwise relationships between multiple variables in a dataset. It creates a matrix (grid) of scatter plots for each pair of numeric variables, allowing you to observe how each variable relates to the others. On the diagonal, it shows univariate distribution plots (like histograms) for each variable.\n",
        "\n",
        "This function is especially helpful for exploratory data analysis to identify patterns, correlations, and trends between variables in one consolidated figure. It supports color coding by categories using the hue parameter for deeper insights across subgroups."
      ],
      "metadata": {
        "id": "x6vXH3Mk3CL7"
      }
    },
    {
      "cell_type": "markdown",
      "source": [
        "### Question 12 --> What is the purpose of the describe() function in Pandas?\n",
        "\n",
        "***Ans -->*** The describe() function in Pandas is used to generate a quick summary of the key descriptive statistics for the columns in a DataFrame or a Series. By default, it provides important statistical metrics such as count, mean, standard deviation, minimum, maximum, and various percentiles (25th, 50th/median, and 75th) for each numeric column."
      ],
      "metadata": {
        "id": "VkARgHzO3CEf"
      }
    },
    {
      "cell_type": "markdown",
      "source": [
        "Question 13 --> Why is handling missing data important in Pandas?\n",
        "\n",
        "Ans --> Handling missing data in Pandas is important because missing values can significantly affect the accuracy, reliability, and validity of data analysis and machine learning models. If missing data is not managed properly, it can lead to biased results, reduced statistical power, and incorrect conclusions. Many statistical methods and algorithms require complete datasets, so missing values may cause errors or degrade model performance."
      ],
      "metadata": {
        "id": "RIqONg2K3B6W"
      }
    },
    {
      "cell_type": "markdown",
      "source": [
        "### Question 14 --> What are the benefits of using Plotly for data visualization\n",
        "\n",
        "***Ans -->***  The benefits of using Plotly for data visualization include:\n",
        "\n",
        "**Interactivity:** Plotly enables interactive charts with features like zooming, panning, tooltips, and clicking on data points for deeper insights, enhancing the user’s ability to explore data dynamically.\n",
        "\n",
        "**Ease of Use:** It offers a simple, intuitive syntax and high-level interfaces (like Plotly Express) that allow users to create complex visualizations with minimal code quickly.\n",
        "\n",
        "**Wide Range of Plot Types:** Plotly supports many chart types, including line plots, scatter plots, bar charts, heatmaps, 3D plots, and more, catering to diverse visualization needs.\n",
        "\n",
        "**Customization:** It provides extensive options for styling, annotations, and adding controls like dropdowns, sliders, and buttons to enrich visualizations."
      ],
      "metadata": {
        "id": "I8U_GS8J3BjG"
      }
    },
    {
      "cell_type": "markdown",
      "source": [
        "### Question 15 -->  How does NumPy handle multidimensional arrays?\n",
        "\n",
        "***Ans -->*** NumPy handles multidimensional arrays through its powerful N-dimensional array object called ndarray, which allows the storage and manipulation of data in multiple dimensions (e.g., 2D, 3D, or higher). These arrays are created using functions like np.array() by passing nested lists that represent rows, columns, and additional axes."
      ],
      "metadata": {
        "id": "ilN8-KAx2BM2"
      }
    },
    {
      "cell_type": "markdown",
      "source": [
        "### Question 16 --> What is the role of Bokeh in data visualization?\n",
        "***Ans -->*** Bokeh is a Python data visualization library designed to create interactive, high-performance charts and plots that can be rendered in modern web browsers using HTML and JavaScript."
      ],
      "metadata": {
        "id": "2WT5s_w22BJ-"
      }
    },
    {
      "cell_type": "markdown",
      "source": [
        "### Question 17 --> A Explain the difference between apply() and map() in Pandas\n",
        "\n",
        "***Ans -->*** map() is best for simple, element-wise mapping on a Series, while apply() is more flexible and suitable for complex operations applied across DataFrame axes or on Series."
      ],
      "metadata": {
        "id": "4rM5F_452BGw"
      }
    },
    {
      "cell_type": "markdown",
      "source": [
        "### Question 18 --> What are some advanced features of NumPy?\n",
        "\n",
        "***Ans -->*** Some advanced features of NumPy include:\n",
        "\n",
        "N-dimensional array (ndarray): Efficient storage and manipulation of large multi-dimensional arrays with homogeneous data types.\n",
        "\n",
        "Vectorized operations and broadcasting: Fast element-wise operations on arrays of different shapes without explicit Python loops, improving performance and code clarity.\n",
        "\n",
        "Universal functions (ufuncs): Optimized, fast mathematical functions such as trigonometric, exponential, and statistical computations that operate element-wise on arrays.\n",
        "\n",
        "Linear algebra routines: Built-in functions for matrix multiplication, inversion, eigenvalues, determinants, and more, essential for scientific computing.\n",
        "\n",
        "Random number generation: Support for various probability distributions useful in simulations and statistical modeling."
      ],
      "metadata": {
        "id": "RI8EWHlZ2BDn"
      }
    },
    {
      "cell_type": "markdown",
      "source": [
        "### Question 19 -->  How does Pandas simplify time series analysis?\n",
        "\n",
        "***Ans -->*** Pandas simplifies time series analysis by providing powerful, easy-to-use tools and data structures tailored for handling time-indexed data.\n",
        "\n",
        " Key features include:\n",
        "\n",
        "DatetimeIndex and Time-Based Indexing: Pandas supports datetime objects as index labels, allowing intuitive slicing, filtering, and alignment of time series data by date and time intervals.\n",
        "\n",
        "Resampling: Pandas enables changing the frequency of time series data (e.g., converting daily data to monthly averages) with flexible aggregation methods.\n",
        "\n",
        "Rolling and Window Functions: These facilitate computations like moving averages or rolling sums, which are essential for smoothing and trend analysis.\n",
        "\n",
        "Handling Missing Data: Pandas offers robust tools to interpolate or fill gaps commonly found in time series datasets."
      ],
      "metadata": {
        "id": "0lpp5aeR1_3_"
      }
    },
    {
      "cell_type": "markdown",
      "source": [
        "### Question 20 --> What is the role of a pivot table in Pandas?\n",
        "\n",
        "***Ans -->*** The role of a pivot table in Pandas is to summarize, aggregate, and reshape data within a DataFrame in a spreadsheet-like format. It allows users to group data by one or more index columns and pivot unique values from one column into new columns. This transformation provides a concise and organized view of complex datasets, facilitating easier comparison, analysis, and pattern identification."
      ],
      "metadata": {
        "id": "gei8dFY31_tH"
      }
    },
    {
      "cell_type": "markdown",
      "source": [
        "### Question 21 --> Why is NumPy’s array slicing faster than Python’s list slicing?\n",
        "\n",
        "***Ans -->*** NumPy’s array slicing is faster than Python’s list slicing primarily because of the underlying memory structure and implementation:\n",
        "\n",
        "Contiguous Memory: NumPy arrays store elements in contiguous blocks of memory, allowing fast access by calculating the memory offset quickly. Python lists store references to objects, scattered in memory, requiring extra indirection.\n",
        "\n",
        "Homogeneous Data Types: NumPy arrays enforce a single data type for all elements, reducing overhead, whereas Python lists can hold heterogeneous data, requiring type checks and more complex memory management during slicing.\n",
        "\n",
        "View vs Copy: NumPy slicing returns a view of the original array rather than making a copy, which saves time and memory. Python list slicing creates a new list with copies of the elements, which is slower."
      ],
      "metadata": {
        "id": "NuhM0ZTx_RNh"
      }
    },
    {
      "cell_type": "markdown",
      "source": [
        "### Question 22 --> What are some common use cases for Seaborn?\n",
        "\n",
        "***Ans -->*** Some common use cases for Seaborn include:\n",
        "\n",
        "Statistical Data Visualization: Creating clear and informative plots that display distributions, relationships, and trends in data using plots like histograms, KDE plots, violin plots, and boxplots.\n",
        "\n",
        "Exploring Relationships: Using scatter plots, pair plots, and regression plots to visualize correlations among multiple variables and understand data patterns.\n",
        "\n",
        "Categorical Data Visualization: Visualizing differences and comparisons across groups with bar plots, count plots, strip plots, and swarm plots.\n",
        "\n",
        "Faceted Plots: Creating grids of plots with FacetGrid or pairplot to analyze subsets of data based on categorical variables, making it easier to compare groups.\n",
        "\n",
        "Time Series and Line Plots: Visualizing data over time or other continuous variables to observe trends and fluctuations.\n",
        "\n",
        "Regression Analysis: Plotting regression lines with confidence intervals to understand linear relationships using regplot() and lmplot().\n",
        "\n",
        "Heatmaps: Visualizing matrix-like data such as correlation matrices to detect patterns and relationships.\n",
        "\n"
      ],
      "metadata": {
        "id": "E93k399H_QtQ"
      }
    },
    {
      "cell_type": "markdown",
      "source": [
        "## Practical Answers"
      ],
      "metadata": {
        "id": "ka3KjZOqAG93"
      }
    },
    {
      "cell_type": "code",
      "execution_count": 1,
      "metadata": {
        "id": "6MKHQ_sA1kY0",
        "colab": {
          "base_uri": "https://localhost:8080/"
        },
        "outputId": "0530b890-dace-416c-f27f-bfdb69e17c45"
      },
      "outputs": [
        {
          "output_type": "stream",
          "name": "stdout",
          "text": [
            "2D Array:\n",
            " [[1 2 3]\n",
            " [4 5 6]\n",
            " [7 8 9]]\n",
            "Sum of each row: [ 6 15 24]\n"
          ]
        }
      ],
      "source": [
        "#Question 01--> How do you create a 2D NumPy array and calculate the sum of each row\n",
        "import numpy as np\n",
        "\n",
        "array_2d = np.array([[1, 2, 3],\n",
        "                     [4, 5, 6],\n",
        "                     [7, 8, 9]])\n",
        "\n",
        "row_sums = np.sum(array_2d, axis=1)\n",
        "\n",
        "print(\"2D Array:\\n\", array_2d)\n",
        "print(\"Sum of each row:\", row_sums)"
      ]
    },
    {
      "cell_type": "code",
      "source": [
        "#Question 02-->  Write a Pandas script to find the mean of a specific column in a DataFrame\n",
        "import pandas as pd\n",
        "\n",
        "data = {\n",
        "    'A': [10, 20, 30, 40, 50],\n",
        "    'B': [5, 15, 25, 35, 45]\n",
        "}\n",
        "df = pd.DataFrame(data)\n",
        "\n",
        "\n",
        "mean= df['A'].mean()\n",
        "\n",
        "print(\"Mean of column A:\", mean)"
      ],
      "metadata": {
        "colab": {
          "base_uri": "https://localhost:8080/"
        },
        "id": "cAn3m5IyAimx",
        "outputId": "2ac6205d-74ef-4f5f-fbb7-75f01c57b3f3"
      },
      "execution_count": 2,
      "outputs": [
        {
          "output_type": "stream",
          "name": "stdout",
          "text": [
            "Mean of column A: 30.0\n"
          ]
        }
      ]
    },
    {
      "cell_type": "code",
      "source": [
        "#Question 03--> Create a scatter plot using Matplotlib\n",
        "import matplotlib.pyplot as plt\n",
        "\n",
        "# Sample data\n",
        "x = [1, 2, 3, 4, 5]\n",
        "y = [5, 7, 4, 6, 8]\n",
        "\n",
        "# Create scatter plot\n",
        "plt.scatter(x, y)\n",
        "\n",
        "# Add title and labels\n",
        "plt.title('Sample Scatter Plot')\n",
        "plt.xlabel('X-axis')\n",
        "plt.ylabel('Y-axis')\n",
        "\n",
        "# Show the plot\n",
        "plt.show()\n",
        ""
      ],
      "metadata": {
        "colab": {
          "base_uri": "https://localhost:8080/",
          "height": 472
        },
        "id": "-z4YiEPnAid2",
        "outputId": "d59e52cc-7c1d-42bd-c0d9-78d58aca4b3f"
      },
      "execution_count": 3,
      "outputs": [
        {
          "output_type": "display_data",
          "data": {
            "text/plain": [
              "<Figure size 640x480 with 1 Axes>"
            ],
            "image/png": "[encoded data removed]"
          },
          "metadata": {}
        }
      ]
    },
    {
      "cell_type": "code",
      "source": [
        "#Question 04--> How do you calculate the correlation matrix using Seaborn and visualize it with a heatmap\n",
        "\n",
        "import seaborn as sns\n",
        "import pandas as pd\n",
        "import numpy as np\n",
        "import matplotlib.pyplot as plt\n",
        "\n",
        "# Sample DataFrame\n",
        "data = {\n",
        "    'A': np.random.rand(10),\n",
        "    'B': np.random.rand(10),\n",
        "    'C': np.random.rand(10),\n",
        "    'D': np.random.rand(10)\n",
        "}\n",
        "df = pd.DataFrame(data)\n",
        "\n",
        "# Calculate correlation matrix\n",
        "corr_matrix = df.corr()\n",
        "\n",
        "# Plot heatmap of correlation matrix\n",
        "sns.heatmap(corr_matrix, annot=True, cmap='coolwarm')\n",
        "\n",
        "# Add title\n",
        "plt.title('Correlation Matrix Heatmap')\n",
        "\n",
        "# Show plot\n",
        "plt.show()"
      ],
      "metadata": {
        "colab": {
          "base_uri": "https://localhost:8080/",
          "height": 452
        },
        "id": "u0hzbAtwAiSP",
        "outputId": "3029e9c7-f41a-4662-fb1c-3d5bd7499fe8"
      },
      "execution_count": 4,
      "outputs": [
        {
          "output_type": "display_data",
          "data": {
            "text/plain": [
              "<Figure size 640x480 with 2 Axes>"
            ],
            "image/png": "[encoded data removed]"
          },
          "metadata": {}
        }
      ]
    },
    {
      "cell_type": "code",
      "source": [
        "#Question 05--> Generate a bar plot using Plotly\n",
        "\n",
        "import plotly.express as px\n",
        "\n",
        "# Sample data\n",
        "data = {\n",
        "    'Fruits': ['Apples', 'Oranges', 'Bananas', 'Grapes'],\n",
        "    'Quantity': [10, 15, 7, 12]\n",
        "}\n",
        "\n",
        "# Create a bar plot\n",
        "fig = px.bar(data, x='Fruits', y='Quantity', title='Fruit Quantity Bar Plot')\n",
        "\n",
        "# Show the plot\n",
        "fig.show()"
      ],
      "metadata": {
        "colab": {
          "base_uri": "https://localhost:8080/",
          "height": 542
        },
        "id": "ZKLUR8rWAiHZ",
        "outputId": "0a84ffda-a573-4abb-c34a-9a0728a303c8"
      },
      "execution_count": 6,
      "outputs": [
        {
          "output_type": "display_data",
          "data": {
            "text/html": [
              "<html>\n",
              "<head><meta charset=\"utf-8\" /></head>\n",
              "<body>\n",
              "    <div>            <script src=\"https://cdnjs.cloudflare.com/ajax/libs/mathjax/2.7.5/MathJax.js?config=TeX-AMS-MML_SVG\"></script><script type=\"text/javascript\">if (window.MathJax && window.MathJax.Hub && window.MathJax.Hub.Config) {window.MathJax.Hub.Config({SVG: {font: \"STIX-Web\"}});}</script>                <script type=\"text/javascript\">window.PlotlyConfig = {MathJaxConfig: 'local'};</script>\n",
              "        <script charset=\"utf-8\" src=\"https://cdn.plot.ly/plotly-2.35.2.min.js\"></script>                <div id=\"78aa25db-391a-4ff4-bfa6-c50492a7f261\" class=\"plotly-graph-div\" style=\"height:525px; width:100%;\"></div>            <script type=\"text/javascript\">                                    window.PLOTLYENV=window.PLOTLYENV || {};                                    if (document.getElementById(\"78aa25db-391a-4ff4-bfa6-c50492a7f261\")) {                    Plotly.newPlot(                        \"78aa25db-391a-4ff4-bfa6-c50492a7f261\",                        [{\"alignmentgroup\":\"True\",\"hovertemplate\":\"Fruits=%{x}\\u003cbr\\u003eQuantity=%{y}\\u003cextra\\u003e\\u003c\\u002fextra\\u003e\",\"legendgroup\":\"\",\"marker\":{\"color\":\"#636efa\",\"pattern\":{\"shape\":\"\"}},\"name\":\"\",\"offsetgroup\":\"\",\"orientation\":\"v\",\"showlegend\":false,\"textposition\":\"auto\",\"x\":[\"Apples\",\"Oranges\",\"Bananas\",\"Grapes\"],\"xaxis\":\"x\",\"y\":[10,15,7,12],\"yaxis\":\"y\",\"type\":\"bar\"}],                        {\"template\":{\"data\":{\"histogram2dcontour\":[{\"type\":\"histogram2dcontour\",\"colorbar\":{\"outlinewidth\":0,\"ticks\":\"\"},\"colorscale\":[[0.0,\"#0d0887\"],[0.1111111111111111,\"#46039f\"],[0.2222222222222222,\"#7201a8\"],[0.3333333333333333,\"#9c179e\"],[0.4444444444444444,\"#bd3786\"],[0.5555555555555556,\"#d8576b\"],[0.6666666666666666,\"#ed7953\"],[0.7777777777777778,\"#fb9f3a\"],[0.8888888888888888,\"#fdca26\"],[1.0,\"#f0f921\"]]}],\"choropleth\":[{\"type\":\"choropleth\",\"colorbar\":{\"outlinewidth\":0,\"ticks\":\"\"}}],\"histogram2d\":[{\"type\":\"histogram2d\",\"colorbar\":{\"outlinewidth\":0,\"ticks\":\"\"},\"colorscale\":[[0.0,\"#0d0887\"],[0.1111111111111111,\"#46039f\"],[0.2222222222222222,\"#7201a8\"],[0.3333333333333333,\"#9c179e\"],[0.4444444444444444,\"#bd3786\"],[0.5555555555555556,\"#d8576b\"],[0.6666666666666666,\"#ed7953\"],[0.7777777777777778,\"#fb9f3a\"],[0.8888888888888888,\"#fdca26\"],[1.0,\"#f0f921\"]]}],\"heatmap\":[{\"type\":\"heatmap\",\"colorbar\":{\"outlinewidth\":0,\"ticks\":\"\"},\"colorscale\":[[0.0,\"#0d0887\"],[0.1111111111111111,\"#46039f\"],[0.2222222222222222,\"#7201a8\"],[0.3333333333333333,\"#9c179e\"],[0.4444444444444444,\"#bd3786\"],[0.5555555555555556,\"#d8576b\"],[0.6666666666666666,\"#ed7953\"],[0.7777777777777778,\"#fb9f3a\"],[0.8888888888888888,\"#fdca26\"],[1.0,\"#f0f921\"]]}],\"heatmapgl\":[{\"type\":\"heatmapgl\",\"colorbar\":{\"outlinewidth\":0,\"ticks\":\"\"},\"colorscale\":[[0.0,\"#0d0887\"],[0.1111111111111111,\"#46039f\"],[0.2222222222222222,\"#7201a8\"],[0.3333333333333333,\"#9c179e\"],[0.4444444444444444,\"#bd3786\"],[0.5555555555555556,\"#d8576b\"],[0.6666666666666666,\"#ed7953\"],[0.7777777777777778,\"#fb9f3a\"],[0.8888888888888888,\"#fdca26\"],[1.0,\"#f0f921\"]]}],\"contourcarpet\":[{\"type\":\"contourcarpet\",\"colorbar\":{\"outlinewidth\":0,\"ticks\":\"\"}}],\"contour\":[{\"type\":\"contour\",\"colorbar\":{\"outlinewidth\":0,\"ticks\":\"\"},\"colorscale\":[[0.0,\"#0d0887\"],[0.1111111111111111,\"#46039f\"],[0.2222222222222222,\"#7201a8\"],[0.3333333333333333,\"#9c179e\"],[0.4444444444444444,\"#bd3786\"],[0.5555555555555556,\"#d8576b\"],[0.6666666666666666,\"#ed7953\"],[0.7777777777777778,\"#fb9f3a\"],[0.8888888888888888,\"#fdca26\"],[1.0,\"#f0f921\"]]}],\"surface\":[{\"type\":\"surface\",\"colorbar\":{\"outlinewidth\":0,\"ticks\":\"\"},\"colorscale\":[[0.0,\"#0d0887\"],[0.1111111111111111,\"#46039f\"],[0.2222222222222222,\"#7201a8\"],[0.3333333333333333,\"#9c179e\"],[0.4444444444444444,\"#bd3786\"],[0.5555555555555556,\"#d8576b\"],[0.6666666666666666,\"#ed7953\"],[0.7777777777777778,\"#fb9f3a\"],[0.8888888888888888,\"#fdca26\"],[1.0,\"#f0f921\"]]}],\"mesh3d\":[{\"type\":\"mesh3d\",\"colorbar\":{\"outlinewidth\":0,\"ticks\":\"\"}}],\"scatter\":[{\"fillpattern\":{\"fillmode\":\"overlay\",\"size\":10,\"solidity\":0.2},\"type\":\"scatter\"}],\"parcoords\":[{\"type\":\"parcoords\",\"line\":{\"colorbar\":{\"outlinewidth\":0,\"ticks\":\"\"}}}],\"scatterpolargl\":[{\"type\":\"scatterpolargl\",\"marker\":{\"colorbar\":{\"outlinewidth\":0,\"ticks\":\"\"}}}],\"bar\":[{\"error_x\":{\"color\":\"#2a3f5f\"},\"error_y\":{\"color\":\"#2a3f5f\"},\"marker\":{\"line\":{\"color\":\"#E5ECF6\",\"width\":0.5},\"pattern\":{\"fillmode\":\"overlay\",\"size\":10,\"solidity\":0.2}},\"type\":\"bar\"}],\"scattergeo\":[{\"type\":\"scattergeo\",\"marker\":{\"colorbar\":{\"outlinewidth\":0,\"ticks\":\"\"}}}],\"scatterpolar\":[{\"type\":\"scatterpolar\",\"marker\":{\"colorbar\":{\"outlinewidth\":0,\"ticks\":\"\"}}}],\"histogram\":[{\"marker\":{\"pattern\":{\"fillmode\":\"overlay\",\"size\":10,\"solidity\":0.2}},\"type\":\"histogram\"}],\"scattergl\":[{\"type\":\"scattergl\",\"marker\":{\"colorbar\":{\"outlinewidth\":0,\"ticks\":\"\"}}}],\"scatter3d\":[{\"type\":\"scatter3d\",\"line\":{\"colorbar\":{\"outlinewidth\":0,\"ticks\":\"\"}},\"marker\":{\"colorbar\":{\"outlinewidth\":0,\"ticks\":\"\"}}}],\"scattermapbox\":[{\"type\":\"scattermapbox\",\"marker\":{\"colorbar\":{\"outlinewidth\":0,\"ticks\":\"\"}}}],\"scatterternary\":[{\"type\":\"scatterternary\",\"marker\":{\"colorbar\":{\"outlinewidth\":0,\"ticks\":\"\"}}}],\"scattercarpet\":[{\"type\":\"scattercarpet\",\"marker\":{\"colorbar\":{\"outlinewidth\":0,\"ticks\":\"\"}}}],\"carpet\":[{\"aaxis\":{\"endlinecolor\":\"#2a3f5f\",\"gridcolor\":\"white\",\"linecolor\":\"white\",\"minorgridcolor\":\"white\",\"startlinecolor\":\"#2a3f5f\"},\"baxis\":{\"endlinecolor\":\"#2a3f5f\",\"gridcolor\":\"white\",\"linecolor\":\"white\",\"minorgridcolor\":\"white\",\"startlinecolor\":\"#2a3f5f\"},\"type\":\"carpet\"}],\"table\":[{\"cells\":{\"fill\":{\"color\":\"#EBF0F8\"},\"line\":{\"color\":\"white\"}},\"header\":{\"fill\":{\"color\":\"#C8D4E3\"},\"line\":{\"color\":\"white\"}},\"type\":\"table\"}],\"barpolar\":[{\"marker\":{\"line\":{\"color\":\"#E5ECF6\",\"width\":0.5},\"pattern\":{\"fillmode\":\"overlay\",\"size\":10,\"solidity\":0.2}},\"type\":\"barpolar\"}],\"pie\":[{\"automargin\":true,\"type\":\"pie\"}]},\"layout\":{\"autotypenumbers\":\"strict\",\"colorway\":[\"#636efa\",\"#EF553B\",\"#00cc96\",\"#ab63fa\",\"#FFA15A\",\"#19d3f3\",\"#FF6692\",\"#B6E880\",\"#FF97FF\",\"#FECB52\"],\"font\":{\"color\":\"#2a3f5f\"},\"hovermode\":\"closest\",\"hoverlabel\":{\"align\":\"left\"},\"paper_bgcolor\":\"white\",\"plot_bgcolor\":\"#E5ECF6\",\"polar\":{\"bgcolor\":\"#E5ECF6\",\"angularaxis\":{\"gridcolor\":\"white\",\"linecolor\":\"white\",\"ticks\":\"\"},\"radialaxis\":{\"gridcolor\":\"white\",\"linecolor\":\"white\",\"ticks\":\"\"}},\"ternary\":{\"bgcolor\":\"#E5ECF6\",\"aaxis\":{\"gridcolor\":\"white\",\"linecolor\":\"white\",\"ticks\":\"\"},\"baxis\":{\"gridcolor\":\"white\",\"linecolor\":\"white\",\"ticks\":\"\"},\"caxis\":{\"gridcolor\":\"white\",\"linecolor\":\"white\",\"ticks\":\"\"}},\"coloraxis\":{\"colorbar\":{\"outlinewidth\":0,\"ticks\":\"\"}},\"colorscale\":{\"sequential\":[[0.0,\"#0d0887\"],[0.1111111111111111,\"#46039f\"],[0.2222222222222222,\"#7201a8\"],[0.3333333333333333,\"#9c179e\"],[0.4444444444444444,\"#bd3786\"],[0.5555555555555556,\"#d8576b\"],[0.6666666666666666,\"#ed7953\"],[0.7777777777777778,\"#fb9f3a\"],[0.8888888888888888,\"#fdca26\"],[1.0,\"#f0f921\"]],\"sequentialminus\":[[0.0,\"#0d0887\"],[0.1111111111111111,\"#46039f\"],[0.2222222222222222,\"#7201a8\"],[0.3333333333333333,\"#9c179e\"],[0.4444444444444444,\"#bd3786\"],[0.5555555555555556,\"#d8576b\"],[0.6666666666666666,\"#ed7953\"],[0.7777777777777778,\"#fb9f3a\"],[0.8888888888888888,\"#fdca26\"],[1.0,\"#f0f921\"]],\"diverging\":[[0,\"#8e0152\"],[0.1,\"#c51b7d\"],[0.2,\"#de77ae\"],[0.3,\"#f1b6da\"],[0.4,\"#fde0ef\"],[0.5,\"#f7f7f7\"],[0.6,\"#e6f5d0\"],[0.7,\"#b8e186\"],[0.8,\"#7fbc41\"],[0.9,\"#4d9221\"],[1,\"#276419\"]]},\"xaxis\":{\"gridcolor\":\"white\",\"linecolor\":\"white\",\"ticks\":\"\",\"title\":{\"standoff\":15},\"zerolinecolor\":\"white\",\"automargin\":true,\"zerolinewidth\":2},\"yaxis\":{\"gridcolor\":\"white\",\"linecolor\":\"white\",\"ticks\":\"\",\"title\":{\"standoff\":15},\"zerolinecolor\":\"white\",\"automargin\":true,\"zerolinewidth\":2},\"scene\":{\"xaxis\":{\"backgroundcolor\":\"#E5ECF6\",\"gridcolor\":\"white\",\"linecolor\":\"white\",\"showbackground\":true,\"ticks\":\"\",\"zerolinecolor\":\"white\",\"gridwidth\":2},\"yaxis\":{\"backgroundcolor\":\"#E5ECF6\",\"gridcolor\":\"white\",\"linecolor\":\"white\",\"showbackground\":true,\"ticks\":\"\",\"zerolinecolor\":\"white\",\"gridwidth\":2},\"zaxis\":{\"backgroundcolor\":\"#E5ECF6\",\"gridcolor\":\"white\",\"linecolor\":\"white\",\"showbackground\":true,\"ticks\":\"\",\"zerolinecolor\":\"white\",\"gridwidth\":2}},\"shapedefaults\":{\"line\":{\"color\":\"#2a3f5f\"}},\"annotationdefaults\":{\"arrowcolor\":\"#2a3f5f\",\"arrowhead\":0,\"arrowwidth\":1},\"geo\":{\"bgcolor\":\"white\",\"landcolor\":\"#E5ECF6\",\"subunitcolor\":\"white\",\"showland\":true,\"showlakes\":true,\"lakecolor\":\"white\"},\"title\":{\"x\":0.05},\"mapbox\":{\"style\":\"light\"}}},\"xaxis\":{\"anchor\":\"y\",\"domain\":[0.0,1.0],\"title\":{\"text\":\"Fruits\"}},\"yaxis\":{\"anchor\":\"x\",\"domain\":[0.0,1.0],\"title\":{\"text\":\"Quantity\"}},\"legend\":{\"tracegroupgap\":0},\"title\":{\"text\":\"Fruit Quantity Bar Plot\"},\"barmode\":\"relative\"},                        {\"responsive\": true}                    ).then(function(){\n",
              "                            \n",
              "var gd = document.getElementById('78aa25db-391a-4ff4-bfa6-c50492a7f261');\n",
              "var x = new MutationObserver(function (mutations, observer) {{\n",
              "        var display = window.getComputedStyle(gd).display;\n",
              "        if (!display || display === 'none') {{\n",
              "            console.log([gd, 'removed!']);\n",
              "            Plotly.purge(gd);\n",
              "            observer.disconnect();\n",
              "        }}\n",
              "}});\n",
              "\n",
              "// Listen for the removal of the full notebook cells\n",
              "var notebookContainer = gd.closest('#notebook-container');\n",
              "if (notebookContainer) {{\n",
              "    x.observe(notebookContainer, {childList: true});\n",
              "}}\n",
              "\n",
              "// Listen for the clearing of the current output cell\n",
              "var outputEl = gd.closest('.output');\n",
              "if (outputEl) {{\n",
              "    x.observe(outputEl, {childList: true});\n",
              "}}\n",
              "\n",
              "                        })                };                            </script>        </div>\n",
              "</body>\n",
              "</html>"
            ]
          },
          "metadata": {}
        }
      ]
    },
    {
      "cell_type": "code",
      "source": [
        "#Question 06-->  Create a DataFrame and add a new column based on an existing column\n",
        "\n",
        "import pandas as pd\n",
        "\n",
        "# Create sample DataFrame\n",
        "data = {\n",
        "    'A': [10, 20, 30, 40, 50],\n",
        "    'B': [5, 15, 25, 35, 45]\n",
        "}\n",
        "df = pd.DataFrame(data)\n",
        "\n",
        "# Add new column 'C' which is double the values of column 'A'\n",
        "df['C'] = df['A'] * 2\n",
        "\n",
        "print(df)\n"
      ],
      "metadata": {
        "colab": {
          "base_uri": "https://localhost:8080/"
        },
        "id": "-6xg6JSgAh-H",
        "outputId": "e26e9501-de60-4291-e104-6e00a95f4ec0"
      },
      "execution_count": 7,
      "outputs": [
        {
          "output_type": "stream",
          "name": "stdout",
          "text": [
            "    A   B    C\n",
            "0  10   5   20\n",
            "1  20  15   40\n",
            "2  30  25   60\n",
            "3  40  35   80\n",
            "4  50  45  100\n"
          ]
        }
      ]
    },
    {
      "cell_type": "code",
      "source": [
        "#Question 07--> Write a program to perform element-wise multiplication of two NumPy arrays\n",
        "\n",
        "import numpy as np\n",
        "\n",
        "# Define two NumPy arrays\n",
        "array1 = np.array([1, 2, 3, 4])\n",
        "array2 = np.array([5, 6, 7, 8])\n",
        "\n",
        "# Perform element-wise multiplication\n",
        "result = array1 * array2\n",
        "\n",
        "print(\"Array 1:\", array1)\n",
        "print(\"Array 2:\", array2)\n",
        "print(\"Element-wise multiplication result:\", result)"
      ],
      "metadata": {
        "colab": {
          "base_uri": "https://localhost:8080/"
        },
        "id": "JzhKmo_AAh0e",
        "outputId": "bec88667-1de1-47fa-c7ef-010f1b33bc27"
      },
      "execution_count": 8,
      "outputs": [
        {
          "output_type": "stream",
          "name": "stdout",
          "text": [
            "Array 1: [1 2 3 4]\n",
            "Array 2: [5 6 7 8]\n",
            "Element-wise multiplication result: [ 5 12 21 32]\n"
          ]
        }
      ]
    },
    {
      "cell_type": "code",
      "source": [
        "#Question 08--> Create a line plot with multiple lines using Matplotlib\n",
        "\n",
        "import matplotlib.pyplot as plt\n",
        "\n",
        "# Sample data\n",
        "x = [1, 2, 3, 4, 5]\n",
        "y1 = [2, 3, 5, 7, 11]\n",
        "y2 = [1, 4, 6, 8, 10]\n",
        "\n",
        "# Create line plot with multiple lines\n",
        "plt.plot(x, y1, label='Line 1', marker='o')\n",
        "plt.plot(x, y2, label='Line 2', marker='s')\n",
        "\n",
        "# Add title and labels\n",
        "plt.title('Multiple Line Plot')\n",
        "plt.xlabel('X-axis')\n",
        "plt.ylabel('Y-axis')\n",
        "\n",
        "# Show legend\n",
        "plt.legend()\n",
        "\n",
        "# Show plot\n",
        "plt.show()"
      ],
      "metadata": {
        "colab": {
          "base_uri": "https://localhost:8080/",
          "height": 472
        },
        "id": "PPWGKKwWAhq-",
        "outputId": "1ce4ffe7-ea09-46f5-dbcc-7d9c19f33f04"
      },
      "execution_count": 9,
      "outputs": [
        {
          "output_type": "display_data",
          "data": {
            "text/plain": [
              "<Figure size 640x480 with 1 Axes>"
            ],
            "image/png": "[encoded data removed]"
          },
          "metadata": {}
        }
      ]
    },
    {
      "cell_type": "code",
      "source": [
        "#Question 09--> Generate a Pandas DataFrame and filter rows where a column value is greater than a threshold\n",
        "\n",
        "import pandas as pd\n",
        "\n",
        "# Create sample DataFrame\n",
        "data = {\n",
        "    'Name': ['Alice', 'Bob', 'Charlie', 'David', 'Eva'],\n",
        "    'Age': [24, 30, 18, 35, 28],\n",
        "    'Score': [85, 90, 78, 92, 88]\n",
        "}\n",
        "df = pd.DataFrame(data)\n",
        "\n",
        "# Filter rows where 'Age' is greater than 25\n",
        "filtered_df = df[df['Age'] > 25]\n",
        "\n",
        "print(filtered_df)"
      ],
      "metadata": {
        "colab": {
          "base_uri": "https://localhost:8080/"
        },
        "id": "GH-2e4SkAhiH",
        "outputId": "3a4eb2ef-6637-4c20-c687-79e3988bf0cd"
      },
      "execution_count": 10,
      "outputs": [
        {
          "output_type": "stream",
          "name": "stdout",
          "text": [
            "    Name  Age  Score\n",
            "1    Bob   30     90\n",
            "3  David   35     92\n",
            "4    Eva   28     88\n"
          ]
        }
      ]
    },
    {
      "cell_type": "code",
      "source": [
        "#Question 10--> Create a histogram using Seaborn to visualize a distribution\n",
        "\n",
        "import seaborn as sns\n",
        "import matplotlib.pyplot as plt\n",
        "import numpy as np\n",
        "\n",
        "# Generate sample data (e.g., normally distributed)\n",
        "data = np.random.randn(1000)\n",
        "\n",
        "# Create histogram\n",
        "sns.histplot(data, bins=30, kde=True)\n",
        "\n",
        "# Add title and labels\n",
        "plt.title('Histogram with KDE')\n",
        "plt.xlabel('Value')\n",
        "plt.ylabel('Frequency')\n",
        "\n",
        "# Show plot\n",
        "plt.show()"
      ],
      "metadata": {
        "colab": {
          "base_uri": "https://localhost:8080/",
          "height": 472
        },
        "id": "PFQQTIk4AhYv",
        "outputId": "200c9881-898e-4b86-a89f-01b7034c4c7b"
      },
      "execution_count": 11,
      "outputs": [
        {
          "output_type": "display_data",
          "data": {
            "text/plain": [
              "<Figure size 640x480 with 1 Axes>"
            ],
            "image/png": "[encoded data removed]"
          },
          "metadata": {}
        }
      ]
    },
    {
      "cell_type": "code",
      "source": [
        "#Question 11--> Perform matrix multiplication using NumPy\n",
        "\n",
        "import numpy as np\n",
        "\n",
        "# Define two matrices (2D arrays)\n",
        "matrix1 = np.array([[1, 2, 3],\n",
        "                    [4, 5, 6]])\n",
        "\n",
        "matrix2 = np.array([[7, 8],\n",
        "                    [9, 10],\n",
        "                    [11, 12]])\n",
        "\n",
        "# Perform matrix multiplication using np.dot()\n",
        "result = np.dot(matrix1, matrix2)\n",
        "\n",
        "print(\"Matrix 1:\")\n",
        "print(matrix1)\n",
        "print(\"\\nMatrix 2:\")\n",
        "print(matrix2)\n",
        "print(\"\\nMatrix multiplication result:\")\n",
        "print(result)"
      ],
      "metadata": {
        "colab": {
          "base_uri": "https://localhost:8080/"
        },
        "id": "yaUXwt3NAhO3",
        "outputId": "3e151b6c-62be-40ee-e716-c2527a6c3c89"
      },
      "execution_count": 12,
      "outputs": [
        {
          "output_type": "stream",
          "name": "stdout",
          "text": [
            "Matrix 1:\n",
            "[[1 2 3]\n",
            " [4 5 6]]\n",
            "\n",
            "Matrix 2:\n",
            "[[ 7  8]\n",
            " [ 9 10]\n",
            " [11 12]]\n",
            "\n",
            "Matrix multiplication result:\n",
            "[[ 58  64]\n",
            " [139 154]]\n"
          ]
        }
      ]
    },
    {
      "cell_type": "code",
      "source": [
        "#Question 12-->  Use Pandas to load a CSV file and display its first 5 rows\n",
        "import pandas as pd\n",
        "\n",
        "# Load CSV file into DataFrame\n",
        "df = pd.read_csv('filename.csv')\n",
        "\n",
        "# Display the first 5 rows\n",
        "print(df.head())"
      ],
      "metadata": {
        "id": "4HxaIgB1AhGP"
      },
      "execution_count": null,
      "outputs": []
    },
    {
      "cell_type": "code",
      "source": [
        "#Question 13--> Create a 3D scatter plot using Plotly\n",
        "\n",
        "import plotly.express as px\n",
        "import pandas as pd\n",
        "import numpy as np\n",
        "\n",
        "# Sample data\n",
        "df = pd.DataFrame({\n",
        "    'x': np.random.rand(50),\n",
        "    'y': np.random.rand(50),\n",
        "    'z': np.random.rand(50),\n",
        "    'color': np.random.choice(['A', 'B', 'C'], 50)\n",
        "})\n",
        "\n",
        "# Create 3D scatter plot\n",
        "fig = px.scatter_3d(df, x='x', y='y', z='z', color='color', title='3D Scatter Plot')\n",
        "\n",
        "# Show plot\n",
        "fig.show()"
      ],
      "metadata": {
        "colab": {
          "base_uri": "https://localhost:8080/",
          "height": 542
        },
        "id": "W-Jy46CWAgqg",
        "outputId": "ac022945-23f0-442d-a7c6-959408d2f3d2"
      },
      "execution_count": 13,
      "outputs": [
        {
          "output_type": "display_data",
          "data": {
            "text/html": [
              "<html>\n",
              "<head><meta charset=\"utf-8\" /></head>\n",
              "<body>\n",
              "    <div>            <script src=\"https://cdnjs.cloudflare.com/ajax/libs/mathjax/2.7.5/MathJax.js?config=TeX-AMS-MML_SVG\"></script><script type=\"text/javascript\">if (window.MathJax && window.MathJax.Hub && window.MathJax.Hub.Config) {window.MathJax.Hub.Config({SVG: {font: \"STIX-Web\"}});}</script>                <script type=\"text/javascript\">window.PlotlyConfig = {MathJaxConfig: 'local'};</script>\n",
              "        <script charset=\"utf-8\" src=\"https://cdn.plot.ly/plotly-2.35.2.min.js\"></script>                <div id=\"8d7e7dbb-557d-4ea0-a5c8-7b172900b96b\" class=\"plotly-graph-div\" style=\"height:525px; width:100%;\"></div>            <script type=\"text/javascript\">                                    window.PLOTLYENV=window.PLOTLYENV || {};                                    if (document.getElementById(\"8d7e7dbb-557d-4ea0-a5c8-7b172900b96b\")) {                    Plotly.newPlot(                        \"8d7e7dbb-557d-4ea0-a5c8-7b172900b96b\",                        [{\"hovertemplate\":\"color=A\\u003cbr\\u003ex=%{x}\\u003cbr\\u003ey=%{y}\\u003cbr\\u003ez=%{z}\\u003cextra\\u003e\\u003c\\u002fextra\\u003e\",\"legendgroup\":\"A\",\"marker\":{\"color\":\"#636efa\",\"symbol\":\"circle\"},\"mode\":\"markers\",\"name\":\"A\",\"scene\":\"scene\",\"showlegend\":true,\"x\":[0.5421119537514564,0.6533672998749149,0.10521109377526461,0.1942806801769693,0.8299916017520163,0.948762130808079,0.014413929837131412,0.7345564527518889,0.8882645408432812,0.7733600742315964],\"y\":[0.2289944133149644,0.6102014044695203,0.9413617384178186,0.18355734518754685,0.9011677475911856,0.08830243577190311,0.1720419579077611,0.2781679689188705,0.4948222838764448,0.10586278839140362],\"z\":[0.4104291562759329,0.13437704894108782,0.8203693556903727,0.6771902952903357,0.47530438988241597,0.11462811104350845,0.5557661607499601,0.6514390493872212,0.65243620358607,0.09610129163908276],\"type\":\"scatter3d\"},{\"hovertemplate\":\"color=B\\u003cbr\\u003ex=%{x}\\u003cbr\\u003ey=%{y}\\u003cbr\\u003ez=%{z}\\u003cextra\\u003e\\u003c\\u002fextra\\u003e\",\"legendgroup\":\"B\",\"marker\":{\"color\":\"#EF553B\",\"symbol\":\"circle\"},\"mode\":\"markers\",\"name\":\"B\",\"scene\":\"scene\",\"showlegend\":true,\"x\":[0.7072245356217093,0.8119708640626354,0.38001487163866765,0.6162937882023316,0.7320972160235809,0.6189322266908903,0.5446228032720969,0.1607924186413776,0.3961628996373695,0.2580994403436665,0.45460988479323483,0.4866123360168084,0.9392107548264282,0.8668323596033125,0.02040349895968352,0.8881192720860774,0.4978631185270934,0.6627827412155848,0.07258393016884768,0.773619497804828],\"y\":[0.2271086741039524,0.8877497665034182,0.8898980793924455,0.939397923934447,0.11026408107490537,0.7044868453686866,0.8620638103205024,0.5406497869657217,0.8918297401371482,0.5333452662075648,0.35972468066635976,0.54363874815877,0.055472589387372206,0.5754496364498226,0.48075365727297925,0.9911736362283128,0.4102815880166947,0.8371113377573556,0.6144969325525684,0.1251592402314916],\"z\":[0.5154993322040285,0.9411756484905972,0.49671572387957363,0.4580939052755397,0.5938193449558378,0.45953161967986744,0.1471518657922708,0.17200291645354626,0.21978079258922867,0.2991194195829867,0.05380659344207139,0.04990169242322584,0.8449269166726527,0.6962795076416894,0.04531480467673832,0.206502092333679,0.20463151048271455,0.07912622956259863,0.14992707101400626,0.8272714029135229],\"type\":\"scatter3d\"},{\"hovertemplate\":\"color=C\\u003cbr\\u003ex=%{x}\\u003cbr\\u003ey=%{y}\\u003cbr\\u003ez=%{z}\\u003cextra\\u003e\\u003c\\u002fextra\\u003e\",\"legendgroup\":\"C\",\"marker\":{\"color\":\"#00cc96\",\"symbol\":\"circle\"},\"mode\":\"markers\",\"name\":\"C\",\"scene\":\"scene\",\"showlegend\":true,\"x\":[0.099392626268889,0.33450485246296746,0.36523498961127754,0.739126490854106,0.8024529314917421,0.8900334926279031,0.34932569249499856,0.29787626292777525,0.9395711063147918,0.8195162350743554,0.8933208074881736,0.5047286101074652,0.09860807304714414,0.5092190871282085,0.9186554076717777,0.6551972449071737,0.41444919118921086,0.1913185401420261,0.6207918273079667,0.439834348386402],\"y\":[0.7541544953777884,0.28521434639609544,0.9395786050859016,0.9436782227719658,0.6260043179473527,0.6175159374531859,0.6109220865339772,0.3906114690404885,0.7931937718204279,0.5749387124809587,0.5802089216254585,0.8654058821441007,0.38880948031648,0.2798060549180361,0.8341290908402066,0.7482648125708271,0.9591348361536541,0.6139637858826366,0.48288855895584115,0.9066876831999523],\"z\":[0.11992980241221918,0.4439657171472775,0.40345031467565373,0.13522737484739433,0.8579241223553521,0.3049948407660489,0.4862105958876416,0.3775240725679899,0.4561958530171224,0.2639807753006195,0.53497008140278,0.06418849087051026,0.9227989334751561,0.956558817102507,0.08170604367885959,0.7420050923083074,0.6425588914659706,0.15797239722556455,0.7786401235698119,0.5949687774670159],\"type\":\"scatter3d\"}],                        {\"template\":{\"data\":{\"histogram2dcontour\":[{\"type\":\"histogram2dcontour\",\"colorbar\":{\"outlinewidth\":0,\"ticks\":\"\"},\"colorscale\":[[0.0,\"#0d0887\"],[0.1111111111111111,\"#46039f\"],[0.2222222222222222,\"#7201a8\"],[0.3333333333333333,\"#9c179e\"],[0.4444444444444444,\"#bd3786\"],[0.5555555555555556,\"#d8576b\"],[0.6666666666666666,\"#ed7953\"],[0.7777777777777778,\"#fb9f3a\"],[0.8888888888888888,\"#fdca26\"],[1.0,\"#f0f921\"]]}],\"choropleth\":[{\"type\":\"choropleth\",\"colorbar\":{\"outlinewidth\":0,\"ticks\":\"\"}}],\"histogram2d\":[{\"type\":\"histogram2d\",\"colorbar\":{\"outlinewidth\":0,\"ticks\":\"\"},\"colorscale\":[[0.0,\"#0d0887\"],[0.1111111111111111,\"#46039f\"],[0.2222222222222222,\"#7201a8\"],[0.3333333333333333,\"#9c179e\"],[0.4444444444444444,\"#bd3786\"],[0.5555555555555556,\"#d8576b\"],[0.6666666666666666,\"#ed7953\"],[0.7777777777777778,\"#fb9f3a\"],[0.8888888888888888,\"#fdca26\"],[1.0,\"#f0f921\"]]}],\"heatmap\":[{\"type\":\"heatmap\",\"colorbar\":{\"outlinewidth\":0,\"ticks\":\"\"},\"colorscale\":[[0.0,\"#0d0887\"],[0.1111111111111111,\"#46039f\"],[0.2222222222222222,\"#7201a8\"],[0.3333333333333333,\"#9c179e\"],[0.4444444444444444,\"#bd3786\"],[0.5555555555555556,\"#d8576b\"],[0.6666666666666666,\"#ed7953\"],[0.7777777777777778,\"#fb9f3a\"],[0.8888888888888888,\"#fdca26\"],[1.0,\"#f0f921\"]]}],\"heatmapgl\":[{\"type\":\"heatmapgl\",\"colorbar\":{\"outlinewidth\":0,\"ticks\":\"\"},\"colorscale\":[[0.0,\"#0d0887\"],[0.1111111111111111,\"#46039f\"],[0.2222222222222222,\"#7201a8\"],[0.3333333333333333,\"#9c179e\"],[0.4444444444444444,\"#bd3786\"],[0.5555555555555556,\"#d8576b\"],[0.6666666666666666,\"#ed7953\"],[0.7777777777777778,\"#fb9f3a\"],[0.8888888888888888,\"#fdca26\"],[1.0,\"#f0f921\"]]}],\"contourcarpet\":[{\"type\":\"contourcarpet\",\"colorbar\":{\"outlinewidth\":0,\"ticks\":\"\"}}],\"contour\":[{\"type\":\"contour\",\"colorbar\":{\"outlinewidth\":0,\"ticks\":\"\"},\"colorscale\":[[0.0,\"#0d0887\"],[0.1111111111111111,\"#46039f\"],[0.2222222222222222,\"#7201a8\"],[0.3333333333333333,\"#9c179e\"],[0.4444444444444444,\"#bd3786\"],[0.5555555555555556,\"#d8576b\"],[0.6666666666666666,\"#ed7953\"],[0.7777777777777778,\"#fb9f3a\"],[0.8888888888888888,\"#fdca26\"],[1.0,\"#f0f921\"]]}],\"surface\":[{\"type\":\"surface\",\"colorbar\":{\"outlinewidth\":0,\"ticks\":\"\"},\"colorscale\":[[0.0,\"#0d0887\"],[0.1111111111111111,\"#46039f\"],[0.2222222222222222,\"#7201a8\"],[0.3333333333333333,\"#9c179e\"],[0.4444444444444444,\"#bd3786\"],[0.5555555555555556,\"#d8576b\"],[0.6666666666666666,\"#ed7953\"],[0.7777777777777778,\"#fb9f3a\"],[0.8888888888888888,\"#fdca26\"],[1.0,\"#f0f921\"]]}],\"mesh3d\":[{\"type\":\"mesh3d\",\"colorbar\":{\"outlinewidth\":0,\"ticks\":\"\"}}],\"scatter\":[{\"fillpattern\":{\"fillmode\":\"overlay\",\"size\":10,\"solidity\":0.2},\"type\":\"scatter\"}],\"parcoords\":[{\"type\":\"parcoords\",\"line\":{\"colorbar\":{\"outlinewidth\":0,\"ticks\":\"\"}}}],\"scatterpolargl\":[{\"type\":\"scatterpolargl\",\"marker\":{\"colorbar\":{\"outlinewidth\":0,\"ticks\":\"\"}}}],\"bar\":[{\"error_x\":{\"color\":\"#2a3f5f\"},\"error_y\":{\"color\":\"#2a3f5f\"},\"marker\":{\"line\":{\"color\":\"#E5ECF6\",\"width\":0.5},\"pattern\":{\"fillmode\":\"overlay\",\"size\":10,\"solidity\":0.2}},\"type\":\"bar\"}],\"scattergeo\":[{\"type\":\"scattergeo\",\"marker\":{\"colorbar\":{\"outlinewidth\":0,\"ticks\":\"\"}}}],\"scatterpolar\":[{\"type\":\"scatterpolar\",\"marker\":{\"colorbar\":{\"outlinewidth\":0,\"ticks\":\"\"}}}],\"histogram\":[{\"marker\":{\"pattern\":{\"fillmode\":\"overlay\",\"size\":10,\"solidity\":0.2}},\"type\":\"histogram\"}],\"scattergl\":[{\"type\":\"scattergl\",\"marker\":{\"colorbar\":{\"outlinewidth\":0,\"ticks\":\"\"}}}],\"scatter3d\":[{\"type\":\"scatter3d\",\"line\":{\"colorbar\":{\"outlinewidth\":0,\"ticks\":\"\"}},\"marker\":{\"colorbar\":{\"outlinewidth\":0,\"ticks\":\"\"}}}],\"scattermapbox\":[{\"type\":\"scattermapbox\",\"marker\":{\"colorbar\":{\"outlinewidth\":0,\"ticks\":\"\"}}}],\"scatterternary\":[{\"type\":\"scatterternary\",\"marker\":{\"colorbar\":{\"outlinewidth\":0,\"ticks\":\"\"}}}],\"scattercarpet\":[{\"type\":\"scattercarpet\",\"marker\":{\"colorbar\":{\"outlinewidth\":0,\"ticks\":\"\"}}}],\"carpet\":[{\"aaxis\":{\"endlinecolor\":\"#2a3f5f\",\"gridcolor\":\"white\",\"linecolor\":\"white\",\"minorgridcolor\":\"white\",\"startlinecolor\":\"#2a3f5f\"},\"baxis\":{\"endlinecolor\":\"#2a3f5f\",\"gridcolor\":\"white\",\"linecolor\":\"white\",\"minorgridcolor\":\"white\",\"startlinecolor\":\"#2a3f5f\"},\"type\":\"carpet\"}],\"table\":[{\"cells\":{\"fill\":{\"color\":\"#EBF0F8\"},\"line\":{\"color\":\"white\"}},\"header\":{\"fill\":{\"color\":\"#C8D4E3\"},\"line\":{\"color\":\"white\"}},\"type\":\"table\"}],\"barpolar\":[{\"marker\":{\"line\":{\"color\":\"#E5ECF6\",\"width\":0.5},\"pattern\":{\"fillmode\":\"overlay\",\"size\":10,\"solidity\":0.2}},\"type\":\"barpolar\"}],\"pie\":[{\"automargin\":true,\"type\":\"pie\"}]},\"layout\":{\"autotypenumbers\":\"strict\",\"colorway\":[\"#636efa\",\"#EF553B\",\"#00cc96\",\"#ab63fa\",\"#FFA15A\",\"#19d3f3\",\"#FF6692\",\"#B6E880\",\"#FF97FF\",\"#FECB52\"],\"font\":{\"color\":\"#2a3f5f\"},\"hovermode\":\"closest\",\"hoverlabel\":{\"align\":\"left\"},\"paper_bgcolor\":\"white\",\"plot_bgcolor\":\"#E5ECF6\",\"polar\":{\"bgcolor\":\"#E5ECF6\",\"angularaxis\":{\"gridcolor\":\"white\",\"linecolor\":\"white\",\"ticks\":\"\"},\"radialaxis\":{\"gridcolor\":\"white\",\"linecolor\":\"white\",\"ticks\":\"\"}},\"ternary\":{\"bgcolor\":\"#E5ECF6\",\"aaxis\":{\"gridcolor\":\"white\",\"linecolor\":\"white\",\"ticks\":\"\"},\"baxis\":{\"gridcolor\":\"white\",\"linecolor\":\"white\",\"ticks\":\"\"},\"caxis\":{\"gridcolor\":\"white\",\"linecolor\":\"white\",\"ticks\":\"\"}},\"coloraxis\":{\"colorbar\":{\"outlinewidth\":0,\"ticks\":\"\"}},\"colorscale\":{\"sequential\":[[0.0,\"#0d0887\"],[0.1111111111111111,\"#46039f\"],[0.2222222222222222,\"#7201a8\"],[0.3333333333333333,\"#9c179e\"],[0.4444444444444444,\"#bd3786\"],[0.5555555555555556,\"#d8576b\"],[0.6666666666666666,\"#ed7953\"],[0.7777777777777778,\"#fb9f3a\"],[0.8888888888888888,\"#fdca26\"],[1.0,\"#f0f921\"]],\"sequentialminus\":[[0.0,\"#0d0887\"],[0.1111111111111111,\"#46039f\"],[0.2222222222222222,\"#7201a8\"],[0.3333333333333333,\"#9c179e\"],[0.4444444444444444,\"#bd3786\"],[0.5555555555555556,\"#d8576b\"],[0.6666666666666666,\"#ed7953\"],[0.7777777777777778,\"#fb9f3a\"],[0.8888888888888888,\"#fdca26\"],[1.0,\"#f0f921\"]],\"diverging\":[[0,\"#8e0152\"],[0.1,\"#c51b7d\"],[0.2,\"#de77ae\"],[0.3,\"#f1b6da\"],[0.4,\"#fde0ef\"],[0.5,\"#f7f7f7\"],[0.6,\"#e6f5d0\"],[0.7,\"#b8e186\"],[0.8,\"#7fbc41\"],[0.9,\"#4d9221\"],[1,\"#276419\"]]},\"xaxis\":{\"gridcolor\":\"white\",\"linecolor\":\"white\",\"ticks\":\"\",\"title\":{\"standoff\":15},\"zerolinecolor\":\"white\",\"automargin\":true,\"zerolinewidth\":2},\"yaxis\":{\"gridcolor\":\"white\",\"linecolor\":\"white\",\"ticks\":\"\",\"title\":{\"standoff\":15},\"zerolinecolor\":\"white\",\"automargin\":true,\"zerolinewidth\":2},\"scene\":{\"xaxis\":{\"backgroundcolor\":\"#E5ECF6\",\"gridcolor\":\"white\",\"linecolor\":\"white\",\"showbackground\":true,\"ticks\":\"\",\"zerolinecolor\":\"white\",\"gridwidth\":2},\"yaxis\":{\"backgroundcolor\":\"#E5ECF6\",\"gridcolor\":\"white\",\"linecolor\":\"white\",\"showbackground\":true,\"ticks\":\"\",\"zerolinecolor\":\"white\",\"gridwidth\":2},\"zaxis\":{\"backgroundcolor\":\"#E5ECF6\",\"gridcolor\":\"white\",\"linecolor\":\"white\",\"showbackground\":true,\"ticks\":\"\",\"zerolinecolor\":\"white\",\"gridwidth\":2}},\"shapedefaults\":{\"line\":{\"color\":\"#2a3f5f\"}},\"annotationdefaults\":{\"arrowcolor\":\"#2a3f5f\",\"arrowhead\":0,\"arrowwidth\":1},\"geo\":{\"bgcolor\":\"white\",\"landcolor\":\"#E5ECF6\",\"subunitcolor\":\"white\",\"showland\":true,\"showlakes\":true,\"lakecolor\":\"white\"},\"title\":{\"x\":0.05},\"mapbox\":{\"style\":\"light\"}}},\"scene\":{\"domain\":{\"x\":[0.0,1.0],\"y\":[0.0,1.0]},\"xaxis\":{\"title\":{\"text\":\"x\"}},\"yaxis\":{\"title\":{\"text\":\"y\"}},\"zaxis\":{\"title\":{\"text\":\"z\"}}},\"legend\":{\"title\":{\"text\":\"color\"},\"tracegroupgap\":0},\"title\":{\"text\":\"3D Scatter Plot\"}},                        {\"responsive\": true}                    ).then(function(){\n",
              "                            \n",
              "var gd = document.getElementById('8d7e7dbb-557d-4ea0-a5c8-7b172900b96b');\n",
              "var x = new MutationObserver(function (mutations, observer) {{\n",
              "        var display = window.getComputedStyle(gd).display;\n",
              "        if (!display || display === 'none') {{\n",
              "            console.log([gd, 'removed!']);\n",
              "            Plotly.purge(gd);\n",
              "            observer.disconnect();\n",
              "        }}\n",
              "}});\n",
              "\n",
              "// Listen for the removal of the full notebook cells\n",
              "var notebookContainer = gd.closest('#notebook-container');\n",
              "if (notebookContainer) {{\n",
              "    x.observe(notebookContainer, {childList: true});\n",
              "}}\n",
              "\n",
              "// Listen for the clearing of the current output cell\n",
              "var outputEl = gd.closest('.output');\n",
              "if (outputEl) {{\n",
              "    x.observe(outputEl, {childList: true});\n",
              "}}\n",
              "\n",
              "                        })                };                            </script>        </div>\n",
              "</body>\n",
              "</html>"
            ]
          },
          "metadata": {}
        }
      ]
    }
  ]
}