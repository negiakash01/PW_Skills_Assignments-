{
  "nbformat": 4,
  "nbformat_minor": 0,
  "metadata": {
    "colab": {
      "provenance": []
    },
    "kernelspec": {
      "name": "python3",
      "display_name": "Python 3"
    },
    "language_info": {
      "name": "python"
    }
  },
  "cells": [
    {
      "cell_type": "markdown",
      "source": [
        "# Assignment04-OOPs"
      ],
      "metadata": {
        "id": "eIHiSVmE8Uwv"
      }
    },
    {
      "cell_type": "markdown",
      "source": [
        "## Theory Answers\n",
        "\n",
        "\n",
        "\n",
        "\n"
      ],
      "metadata": {
        "id": "4vZQTc3z8Uqz"
      }
    },
    {
      "cell_type": "markdown",
      "source": [
        "### Question 01--> What is Object-Oriented Programming (OOP)?\n",
        "***Ans-->*** Object-Oriented Programming (OOP) is a programming paradigm that structures software design around data entities called objects, rather than functions and logic alone. Each object combines data and behaviors (functions/methods) relevant to that entity, supporting a modular and reusable code architecture."
      ],
      "metadata": {
        "id": "yYy941Mv8Uim"
      }
    },
    {
      "cell_type": "markdown",
      "source": [
        "### Question 02--> What is a class in OOP?\n",
        "***Ans-->*** A class in Object-Oriented Programming (OOP) is a fundamental concept defined as a blueprint or template for creating objects. It specifies what attributes (data fields) and methods (functions or behaviors) the objects created from the class will have.\n",
        "\n"
      ],
      "metadata": {
        "id": "BnDfbHZr9Hiz"
      }
    },
    {
      "cell_type": "markdown",
      "source": [
        "### Question3-->What is an object in OOP?\n",
        "***Ans-->*** An object in Object-Oriented Programming (OOP) is an individual instance of a class that embodies specific data (attributes or state) and behaviors (methods or actions). Objects are the basic building blocks in OOP; they represent real-world or conceptual entities and are capable of interacting with other objects in a program."
      ],
      "metadata": {
        "id": "eQ4jna079Heb"
      }
    },
    {
      "cell_type": "markdown",
      "source": [
        "### Question 04-->What is the difference between abstraction and encapsulation?\n",
        "***Ans-->*** Abstraction and encapsulation are two core concepts in Object-Oriented Programming (OOP) with distinct roles: abstraction focuses on presenting only the essential features of an object, while encapsulation deals with bundling data and methods and restricting direct access to the internal details."
      ],
      "metadata": {
        "id": "8cn2Nh619HZy"
      }
    },
    {
      "cell_type": "markdown",
      "source": [
        "### Question 05-->What are dunder methods in Python?\n",
        "***Ans-->*** Dunder methods in Python, also known as magic methods or special methods, are predefined methods whose names start and end with double underscores (hence \"dunder\" for \"double underscore\"), such as __init__, __str__, and __add__."
      ],
      "metadata": {
        "id": "NePUqVer9HUR"
      }
    },
    {
      "cell_type": "markdown",
      "source": [
        "### Question 06-->Explain the concept of inheritance in OOP.\n",
        "***Ans-->*** Inheritance in Object-Oriented Programming (OOP) is a mechanism where a new class (called a subclass or child class) is based on an existing class (called a superclass or parent class), automatically acquiring its data fields and methods."
      ],
      "metadata": {
        "id": "C9R1RhtW9HPC"
      }
    },
    {
      "cell_type": "markdown",
      "source": [
        "### Question 07-->What is polymorphism in OOP?\n",
        "***Ans-->*** Polymorphism in Object-Oriented Programming (OOP) is the ability of objects to take on multiple forms or to behave differently based on the context in which they are used. It allows a single interface or method to represent different underlying forms (data types), enabling the same function or operation to work with various object types."
      ],
      "metadata": {
        "id": "ixjpO3xz9HJ0"
      }
    },
    {
      "cell_type": "markdown",
      "source": [
        "### Question 08-->How is encapsulation achieved in Python?\n",
        "***Ans-->*** Encapsulation in Python is achieved by bundling data (attributes) and methods that operate on the data within a single unit, typically a class, and restricting direct access to some of the object's components to protect the internal state."
      ],
      "metadata": {
        "id": "HAQ4ydco9HFq"
      }
    },
    {
      "cell_type": "markdown",
      "source": [
        "### Question 09-->What is a constructor in Python?\n",
        "***Ans-->*** A constructor in Python is a special method that is automatically called when an object of a class is created. Its main purpose is to initialize the object's attributes or state."
      ],
      "metadata": {
        "id": "uoQ9_78D9HAr"
      }
    },
    {
      "cell_type": "markdown",
      "source": [
        "### Question 10-->What are class and static methods in Python?\n",
        "***Ans-->***  class methods operate on the class itself and can modify class state, whereas static methods are regular functions placed inside a class namespace for organizational reasons, without access to class or instance data."
      ],
      "metadata": {
        "id": "z8bPylRZ9G8D"
      }
    },
    {
      "cell_type": "markdown",
      "source": [
        "### Question 11--> What is method overloading in Python?\n",
        "***Ans-->*** Method overloading in Python refers to the concept where multiple methods have the same name but different parameters (either in number or type). However, Python does not support method overloading."
      ],
      "metadata": {
        "id": "7wiyJTav9G2k"
      }
    },
    {
      "cell_type": "markdown",
      "source": [
        "### Question 12-->What is method overriding in OOP?\n",
        "***Ans-->*** Method overriding in Object-Oriented Programming (OOP) is a feature that allows a subclass (child class) to provide its own specific implementation of a method that is already defined in its superclass (parent class)."
      ],
      "metadata": {
        "id": "Fa8WGB3_9Gx5"
      }
    },
    {
      "cell_type": "markdown",
      "source": [
        "### Question 13-->What is a property decorator in Python?\n",
        "***Ans-->*** A property decorator in Python, denoted by @property, is a built-in decorator that allows a method to be accessed like an attribute, enabling the class to control attribute access while keeping the syntax simple and elegant."
      ],
      "metadata": {
        "id": "TELAQHqm9Gtk"
      }
    },
    {
      "cell_type": "markdown",
      "source": [
        "### Question 14-->Why is polymorphism important in OOP?\n",
        "***Ans-->*** Polymorphism is important in Object-Oriented Programming (OOP) because it provides flexibility, code reusability, and scalability by allowing objects of different classes to be treated through the same interface while exhibiting behavior specific to their own class.\n",
        "\n"
      ],
      "metadata": {
        "id": "a_zOIiWR9Gox"
      }
    },
    {
      "cell_type": "markdown",
      "source": [
        "### Question 15-->What is an abstract class in Python?\n",
        "***Ans-->*** An abstract class in Python is a class that cannot be instantiated directly and is designed to be a blueprint for other classes. It usually contains one or more abstract methods, which are methods declared but without implementation. These methods must be implemented by any subclass inheriting the abstract class, ensuring a consistent interface across different subclasses."
      ],
      "metadata": {
        "id": "DPynXmLT9GjZ"
      }
    },
    {
      "cell_type": "markdown",
      "source": [
        "### Question 16-->What are the advantages of OOP?\n",
        "***Ans-->*** The advantages of Object-Oriented Programming (OOP) include improved modularity, reusability, maintainability, security, and scalability, which collectively lead to higher quality software and easier development and maintenance."
      ],
      "metadata": {
        "id": "nXvh9WmB9Gd6"
      }
    },
    {
      "cell_type": "markdown",
      "source": [
        "### Question 17-->What is the difference between a class variable and an instance variable?\n",
        "***Ans-->*** A class variable is a variable that is shared among all instances of a class, meaning there is only one copy of the variable for the entire class. An instance variable is unique to each instance of the class, meaning each object has its own separate copy of the variable."
      ],
      "metadata": {
        "id": "OwWQzopn9GYG"
      }
    },
    {
      "cell_type": "markdown",
      "source": [
        "### Question 18--> What is multiple inheritance in Python?\n",
        "***Ans-->*** Multiple inheritance in Python is a feature where a class (called the child class) can inherit attributes and methods from more than one parent class. This allows the child class to combine behaviors and properties from multiple classes, providing great flexibility in designing complex systems.\n",
        "\n"
      ],
      "metadata": {
        "id": "JcK9p-3P9GSI"
      }
    },
    {
      "cell_type": "markdown",
      "source": [
        "### Question 19-->Explain the purpose of ‘’__str__’ and ‘__repr__’ ‘ methods in Python.\n",
        "***Ans-->***\n",
        "__repr__ Method\n",
        "\n",
        "Intended to provide an official, unambiguous string representation of an object, mainly for developers.\n",
        "\n",
        "Its goal is to include enough detail to recreate the object if possible (e.g., via eval()).\n",
        "\n",
        "Called by the built-in repr() function and used by the interactive interpreter to display objects.\n",
        "\n",
        "When __str__ is not defined, Python falls back to using __repr__.\n",
        "\n",
        "Example return format often looks like: ClassName(attribute1=value1, attribute2=value2).\n",
        "\n",
        "__str__ Method\n",
        "\n",
        "Intended to provide a readable or informal string representation of an object, mainly for end-users.\n",
        "\n",
        "Called by the built-in str() function and when using print() on an object.\n",
        "\n",
        "Defines how the object is presented as a user-friendly string.\n",
        "\n",
        "If not defined, Python uses __repr__ as a fallback.\n",
        "\n",
        "Often returns a concise or human-readable description."
      ],
      "metadata": {
        "id": "plfQITos9GL7"
      }
    },
    {
      "cell_type": "markdown",
      "source": [
        "### Question 20-->What is the significance of the ‘super()’ function in Python?\n",
        "***Ans-->*** The super() function in Python is significant because it allows a subclass to call methods and access properties of its parent (super) class without explicitly naming the parent class. This is particularly useful in inheritance, enabling clean and maintainable code by avoiding hardcoded references to parent classes."
      ],
      "metadata": {
        "id": "36TWjyf-9GEz"
      }
    },
    {
      "cell_type": "markdown",
      "source": [
        "### Question 21-->What is the significance of the __del__ method in Python?\n",
        "***Ans-->*** The __del__ method in Python is a special method known as a destructor, which is called when an object is about to be destroyed or garbage collected. Its significance lies in allowing developers to define cleanup actions that should be performed automatically before an object is removed from memory, such as releasing external resources like files, network connections, or memory."
      ],
      "metadata": {
        "id": "BcESZx6N9F_c"
      }
    },
    {
      "cell_type": "markdown",
      "source": [
        "### Question 22-->What is the difference between @staticmethod and @classmethod in Python?\n",
        "***Ans-->*** @classmethod\n",
        "\n",
        "Takes the class itself as the first parameter, conventionally named cls.\n",
        "\n",
        "Can access and modify class state (class variables).\n",
        "\n",
        "Often used for factory methods that create class instances or methods that affect the class as a whole.\n",
        "\n",
        "Defined using the @classmethod decorator.\n",
        "\n",
        "@staticmethod\n",
        "\n",
        "Does not take any implicit first argument (neither self nor cls).\n",
        "\n",
        "Cannot access or modify instance or class state.\n",
        "\n",
        "Used for utility functions that are logically related to the class but do not need class or instance data.\n",
        "\n",
        "Defined using the @staticmethod decorator."
      ],
      "metadata": {
        "id": "oLkOTxxJ9F4l"
      }
    },
    {
      "cell_type": "markdown",
      "source": [
        "Question 23-->How does polymorphism work in Python with inheritance?\n",
        "***Ans-->*** Polymorphism in Python with inheritance works by allowing child classes to inherit methods and attributes from a parent class and override those methods to provide their own specific behavior. When a method is called on an object, Python dynamically decides which method to execute based on the actual object type, enabling the same method name to behave differently across different classes."
      ],
      "metadata": {
        "id": "6rmHuBbX9FyT"
      }
    },
    {
      "cell_type": "markdown",
      "source": [
        "### Question 24-->What is method chaining in Python OOP?\n",
        "***Ans-->*** Method chaining in Python OOP is a programming technique where multiple method calls are linked together in a single, continuous line by having each method return the same object (usually self). This allows several operations to be performed sequentially on the same object in a clean and readable manner."
      ],
      "metadata": {
        "id": "UPydpv-x9Fra"
      }
    },
    {
      "cell_type": "markdown",
      "source": [
        "### Question 25-->What is the purpose of the __call__ method in Python?\n",
        "***Ans-->*** The __call__ method in Python is a special (magic) method that allows an instance of a class to be called like a function. Its purpose is to make objects callable, meaning you can use parentheses () to invoke an object, triggering the __call__ method automatically."
      ],
      "metadata": {
        "id": "rVdaTLQG9FZU"
      }
    },
    {
      "cell_type": "markdown",
      "source": [
        "## Practical Answers"
      ],
      "metadata": {
        "id": "MdBpwYmPAGz2"
      }
    },
    {
      "cell_type": "code",
      "execution_count": 6,
      "metadata": {
        "id": "ECkRlungG0m3",
        "colab": {
          "base_uri": "https://localhost:8080/"
        },
        "outputId": "c93feab7-145a-4d1d-f0e2-aa052ec10d45"
      },
      "outputs": [
        {
          "output_type": "stream",
          "name": "stdout",
          "text": [
            "This is generic message\n",
            "Bark!\n"
          ]
        }
      ],
      "source": [
        "# Question 01--> Create a parent class Animal with a method speak() that prints a generic message. Create a child class Dog that overrides the speak() method to print \"Bark!\".\n",
        "class animal:\n",
        "  def speak(self):\n",
        "    print(\"This is generic message\")\n",
        "class dog(animal):\n",
        "  def speak(self):\n",
        "    print(\"Bark!\")\n",
        "a1=animal()\n",
        "a1.speak()\n",
        "d1=dog()\n",
        "d1.speak()\n",
        "\n"
      ]
    },
    {
      "cell_type": "code",
      "source": [
        "# Question 02--> Write a program to create an abstract class Shape with a method area(). Derive classes Circle and Rectangle from it and implement the area() method in both.\n",
        "from abc import ABC, abstractmethod\n",
        "\n",
        "class Shape(ABC):\n",
        "    @abstractmethod\n",
        "    def area(self):\n",
        "        pass\n",
        "class Circle(Shape):\n",
        "    def __init__(self, radius):\n",
        "        self.radius = radius\n",
        "    def area(self):\n",
        "        return 3.14 * self.radius ** 2\n",
        "\n",
        "class Rectangle(Shape):\n",
        "    def __init__(self, length, width):\n",
        "        self.length = length\n",
        "        self.width = width\n",
        "    def area(self):\n",
        "        return self.length * self.width\n",
        "c1=Circle(21)\n",
        "print(c1.area())\n",
        "r1=Rectangle(12,13)\n",
        "print(r1.area())"
      ],
      "metadata": {
        "colab": {
          "base_uri": "https://localhost:8080/"
        },
        "id": "5z0w6rUf_A4L",
        "outputId": "ab8c4e8a-8910-44a7-8110-dd9ba3bdf8d4"
      },
      "execution_count": 5,
      "outputs": [
        {
          "output_type": "stream",
          "name": "stdout",
          "text": [
            "1384.74\n",
            "156\n"
          ]
        }
      ]
    },
    {
      "cell_type": "code",
      "source": [
        "# Question 03--> Implement a multi-level inheritance scenario where a class Vehicle has an attribute type. Derive a class Car and further derive a class ElectricCar that adds a battery attribute.\n",
        "class Vehicle:\n",
        "  def __init__(self):\n",
        "    pass\n",
        "class Car(Vehicle):\n",
        "  def __init__(self,type):\n",
        "    self.type=type\n",
        "class ElectricCar(Car):\n",
        "  def __init__(self,type,model):\n",
        "    super().__init__(type)\n",
        "    self.model=model\n",
        "e1=ElectricCar(\"Electric\",\"Tesla x1\")\n",
        "print(e1.type)\n",
        "print(e1.model)"
      ],
      "metadata": {
        "colab": {
          "base_uri": "https://localhost:8080/"
        },
        "id": "yXDQgoWl_Ap8",
        "outputId": "3e888846-543c-40f2-df39-7b1a0b4454f4"
      },
      "execution_count": 9,
      "outputs": [
        {
          "output_type": "stream",
          "name": "stdout",
          "text": [
            "Electric\n",
            "Tesla x1\n"
          ]
        }
      ]
    },
    {
      "cell_type": "code",
      "source": [
        "# Question 04--> Demonstrate polymorphism by creating a base class Bird with a method fly(). Create two derived classes Sparrow and Penguin that override the fly() method.\n",
        "class Bird:\n",
        "  def fly(self):\n",
        "    return(\"birld is flying\")\n",
        "class Sparrow(Bird):\n",
        "  def fly(self):\n",
        "    return(\"sparrow is flying\")\n",
        "class Penguin(Bird):\n",
        "  def fly(self):\n",
        "    return(\"penguin is not flying\")\n",
        "b1=Bird()\n",
        "print(b1.fly())\n",
        "s1=Sparrow()\n",
        "print(s1.fly())\n",
        "p1=Penguin()\n",
        "print(p1.fly())"
      ],
      "metadata": {
        "colab": {
          "base_uri": "https://localhost:8080/"
        },
        "id": "xo9jlmG3-pNb",
        "outputId": "01a8a0ed-6055-4d4c-c4a5-ffa527b10d25"
      },
      "execution_count": 14,
      "outputs": [
        {
          "output_type": "stream",
          "name": "stdout",
          "text": [
            "birld is flying\n",
            "sparrow is flying\n",
            "penguin is not flying\n"
          ]
        }
      ]
    },
    {
      "cell_type": "code",
      "source": [
        "# Question 05--> Write a program to demonstrate encapsulation by creating a class BankAccount with private attributes balance and methods to deposit, withdraw, and check balance\n",
        "class BankAccount:\n",
        "    def __init__(self, balance):\n",
        "        self.__balance = balance\n",
        "\n",
        "    def deposit(self, amount):\n",
        "        self.__balance += amount\n",
        "\n",
        "    def withdraw(self, amount):\n",
        "        if self.__balance >= amount:\n",
        "            self.__balance -= amount\n",
        "    def getbalance(self):\n",
        "        return self.__balance\n",
        "acc1=BankAccount(1000)\n",
        "acc1.deposit(1000)\n",
        "acc1.withdraw(500)\n",
        "acc1.getbalance()"
      ],
      "metadata": {
        "colab": {
          "base_uri": "https://localhost:8080/"
        },
        "id": "F5QX-gI8-pGd",
        "outputId": "fe04e19f-5762-473f-c4f9-d9b0e3389311"
      },
      "execution_count": 13,
      "outputs": [
        {
          "output_type": "execute_result",
          "data": {
            "text/plain": [
              "1500"
            ]
          },
          "metadata": {},
          "execution_count": 13
        }
      ]
    },
    {
      "cell_type": "code",
      "source": [
        "# Question 06--> Demonstrate runtime polymorphism using a method play() in a base class Instrument. Derive classes Guitar and Piano that implement their own version of play().\n",
        "class Instrument:\n",
        "    def play(self):\n",
        "      pass\n",
        "class Guitar(Instrument):\n",
        "  def play(self):\n",
        "    return(\"Guitar is playing\")\n",
        "class Piano(Instrument):\n",
        "  def play(self):\n",
        "    return(\"Piano is playing\")\n",
        "\n",
        "g1=Guitar()\n",
        "print(g1.play())\n",
        "p1=Piano()\n",
        "print(p1.play())"
      ],
      "metadata": {
        "colab": {
          "base_uri": "https://localhost:8080/"
        },
        "id": "2juLxgV8-o-t",
        "outputId": "e6447184-e6a2-4f6a-9208-58436acb2338"
      },
      "execution_count": 15,
      "outputs": [
        {
          "output_type": "stream",
          "name": "stdout",
          "text": [
            "None\n",
            "Guitar is playing\n",
            "Piano is playing\n"
          ]
        }
      ]
    },
    {
      "cell_type": "code",
      "source": [
        "# Question 07--> Create a class MathOperations with a class method add_numbers() to add two numbers and a static method subtract_numbers() to subtract two numbers.\n",
        "class MathOperation:\n",
        "    @classmethod\n",
        "    def add_numbers(cls,a,b):\n",
        "        return (a+b)\n",
        "    @staticmethod\n",
        "    def sub_numbers(a,b):\n",
        "        return (a-b)\n",
        "add1=MathOperation.add_numbers(5,9)\n",
        "print(add1)\n",
        "sub1=MathOperation.sub_numbers(5,9)\n",
        "print(sub1)"
      ],
      "metadata": {
        "colab": {
          "base_uri": "https://localhost:8080/"
        },
        "id": "8YxaHuOy-o2r",
        "outputId": "2182668d-541f-4168-8238-3a81598d52d4"
      },
      "execution_count": 16,
      "outputs": [
        {
          "output_type": "stream",
          "name": "stdout",
          "text": [
            "14\n",
            "-4\n"
          ]
        }
      ]
    },
    {
      "cell_type": "code",
      "source": [
        "# Question 08--> Implement a class Person with a class method to count the total number of persons created.\n",
        "class Person:\n",
        "        count=0\n",
        "        def __init__(self,name):\n",
        "                self.name=name\n",
        "                Person.count+=1\n",
        "                pass\n",
        "        @classmethod\n",
        "        def total_person(cls):\n",
        "                return cls.count\n",
        "\n",
        "p=Person(\"a\")\n",
        "p1=Person(\"b\")\n",
        "p2=Person(\"c\")\n",
        "t=Person.total_person()\n",
        "print(t)\n",
        "\n"
      ],
      "metadata": {
        "colab": {
          "base_uri": "https://localhost:8080/"
        },
        "id": "rDjJDQwi-ou1",
        "outputId": "f1f3c43a-35c6-4a68-8738-7ef019422e88"
      },
      "execution_count": 18,
      "outputs": [
        {
          "output_type": "stream",
          "name": "stdout",
          "text": [
            "3\n"
          ]
        }
      ]
    },
    {
      "cell_type": "code",
      "source": [
        "# Question 09--> Write a class Fraction with attributes numerator and denominator. Override the str method to display the fraction as \"numerator/denominator\".\n",
        "class Fraction:\n",
        "    def __init__(self,num=\"numerator\",den=\"denominator\"):\n",
        "        self.numerator=num\n",
        "        self.denominator=den\n",
        "\n",
        "    def strng(self):\n",
        "        return(f\"{self.numerator}/{self.denominator}\")\n",
        "d=Fraction( )\n",
        "print(d.strng())"
      ],
      "metadata": {
        "colab": {
          "base_uri": "https://localhost:8080/"
        },
        "id": "SylO8SWV-ol8",
        "outputId": "b0dce7f0-5240-456d-f71b-496621cf5f95"
      },
      "execution_count": 19,
      "outputs": [
        {
          "output_type": "stream",
          "name": "stdout",
          "text": [
            "numerator/denominator\n"
          ]
        }
      ]
    },
    {
      "cell_type": "code",
      "source": [
        "# Question 10--> Demonstrate operator overloading by creating a class Vector and overriding the add method to add two vectors.\n",
        "class Vector:\n",
        "    def __init__(self, x, y):\n",
        "        self.x = x\n",
        "        self.y = y\n",
        "\n",
        "    def __add__(self, other):\n",
        "        return Vector(self.x + other.x, self.y + other.y)\n",
        "v1=Vector(1,2)\n",
        "v2=Vector(3,4)\n",
        "v3=v1+v2\n",
        "print(v3.x,v3.y)"
      ],
      "metadata": {
        "colab": {
          "base_uri": "https://localhost:8080/"
        },
        "id": "tn2hRLeD-oSz",
        "outputId": "3a284caf-7d21-4186-ec8f-b92a0b73e883"
      },
      "execution_count": 34,
      "outputs": [
        {
          "output_type": "stream",
          "name": "stdout",
          "text": [
            "4 6\n"
          ]
        }
      ]
    },
    {
      "cell_type": "code",
      "source": [
        "# Question 11--> Create a class Person with attributes name and age. Add a method greet() that prints \"Hello, my name is {name} and I am {age} years old.\"\n",
        "class Person :\n",
        "    def __init__(self,name,age):\n",
        "        self.name=name\n",
        "        self.age=age\n",
        "\n",
        "    def greet(self):\n",
        "        return(f\"Hello! My name is {self.name} and my age is {self.age} \")\n",
        "p1=Person(\"Shyam\",23)\n",
        "print(p1.greet())"
      ],
      "metadata": {
        "colab": {
          "base_uri": "https://localhost:8080/"
        },
        "id": "8K4HlhPF-oDF",
        "outputId": "fff81366-c8ce-45de-d266-a1cb2e39a92d"
      },
      "execution_count": 24,
      "outputs": [
        {
          "output_type": "stream",
          "name": "stdout",
          "text": [
            "Hello! My name is Shyam and my age is 23 \n"
          ]
        }
      ]
    },
    {
      "cell_type": "code",
      "source": [
        "# Question 12--> Implement a class Student with attributes name and grades. Create a method average_grade() to compute the average of the grades.\n",
        "class Student :\n",
        "    def __init__(self,name,grade):\n",
        "        self.name=name\n",
        "        self.grade=grade\n",
        "    def average_grade(self):\n",
        "        avg=sum(self.grade)/len(self.grade)\n",
        "        return (f\"{self.name} score is {avg}\")\n",
        "s1=Student(\"Arvind\",[15,17,19,20,18])\n",
        "print(s1.average_grade())"
      ],
      "metadata": {
        "colab": {
          "base_uri": "https://localhost:8080/"
        },
        "id": "Y1eWH9qk-n6D",
        "outputId": "e4da61c2-26e2-4735-c72d-6c9b335b98bc"
      },
      "execution_count": 25,
      "outputs": [
        {
          "output_type": "stream",
          "name": "stdout",
          "text": [
            "akash score is 17.8\n"
          ]
        }
      ]
    },
    {
      "cell_type": "code",
      "source": [
        "# Question 13--> Create a class Rectangle with methods set_dimensions() to set the dimensions and area() to calculate the area.\n",
        "l=int(input(\"etner len:\"))\n",
        "b=int(input(\"enter breadth:\"))\n",
        "class Rectangle:\n",
        "     def __init__(self,l,b):\n",
        "         self.l=l\n",
        "         self.b=b\n",
        "     def set_dimenstion(self,l,b):\n",
        "        self.l=l\n",
        "        self.b=b\n",
        "     def area(self):\n",
        "        return self.l*self.b\n",
        "a=Rectangle(l,b)\n",
        "print(a.area())"
      ],
      "metadata": {
        "colab": {
          "base_uri": "https://localhost:8080/"
        },
        "id": "ncwca6xh-nyd",
        "outputId": "1cce3456-d222-4483-e3dc-61161e3afb6d"
      },
      "execution_count": 28,
      "outputs": [
        {
          "output_type": "stream",
          "name": "stdout",
          "text": [
            "etner len:15\n",
            "enter breadth:4\n",
            "60\n"
          ]
        }
      ]
    },
    {
      "cell_type": "code",
      "source": [
        "# Question 14-->  Create a class Employee with a method calculate_salary() that computes the salary based on hours worked and hourly rate. Create a derived class Manager that adds a bonus to the salary.\n",
        "class Employee:\n",
        "   hourly_rate=250\n",
        "   def __init__(self,hour_worked):\n",
        "      self.working_hour=hour_worked\n",
        "   def calculate_salary(self):\n",
        "      salary=self.working_hour*Employee.hourly_rate\n",
        "      return salary\n",
        "e1=Employee(8)\n",
        "print(e1.calculate_salary())"
      ],
      "metadata": {
        "colab": {
          "base_uri": "https://localhost:8080/"
        },
        "id": "fmQeNYyZ-nos",
        "outputId": "5d1a545a-8cbe-4bba-95ac-7b559ab34397"
      },
      "execution_count": 32,
      "outputs": [
        {
          "output_type": "stream",
          "name": "stdout",
          "text": [
            "2000\n"
          ]
        }
      ]
    },
    {
      "cell_type": "code",
      "source": [
        "# Question 15--> Create a class Product with attributes name, price, and quantity. Implement a method total_price() that calculates the total price of the product.\n",
        "class Product:\n",
        "   def __init__(self,name,price,quantity):\n",
        "      self.name=name\n",
        "      self.price=price\n",
        "      self.quantity=quantity\n",
        "   def total_price(self):\n",
        "      return self.price*self.quantity\n",
        "p1=Product(\"pen\",10,2)\n",
        "print(p1.total_price())"
      ],
      "metadata": {
        "colab": {
          "base_uri": "https://localhost:8080/"
        },
        "id": "woTJbTXu-nhj",
        "outputId": "5dc7b6d2-9836-4afc-a58a-0710ed82d8b7"
      },
      "execution_count": 33,
      "outputs": [
        {
          "output_type": "stream",
          "name": "stdout",
          "text": [
            "20\n"
          ]
        }
      ]
    },
    {
      "cell_type": "code",
      "source": [
        "# Question 16--> Create a class Animal with an abstract method sound(). Create two derived classes Cow and Sheep that implement the sound() method.\n",
        "from abc import ABC,abstractmethod\n",
        "@abstractmethod\n",
        "class Animal(ABC):\n",
        "   def sound(self):\n",
        "      pass\n",
        "\n",
        "class Cow(Animal):\n",
        "   def sound(self,m):\n",
        "      return (\"mowww\")\n",
        "class Sheep(Animal):\n",
        "   def sound(self):\n",
        "      return (\"mehh\")\n",
        "c1=Cow()\n",
        "print(c1.sound(\"j\"))\n",
        "s1=Sheep()\n",
        "print(s1.sound())"
      ],
      "metadata": {
        "colab": {
          "base_uri": "https://localhost:8080/"
        },
        "id": "eG-Frq7Z-nZ9",
        "outputId": "6d21f307-578e-4214-dc0d-4de3567015aa"
      },
      "execution_count": 29,
      "outputs": [
        {
          "output_type": "stream",
          "name": "stdout",
          "text": [
            "mowww\n",
            "mehh\n"
          ]
        }
      ]
    },
    {
      "cell_type": "code",
      "source": [
        "# Question 17--> Create a class Book with attributes title, author, and year_published. Add a method get_book_info() that returns a formatted string with the book's details.\n",
        "class Book:\n",
        "   def __init__(self,title,author,year_published):\n",
        "      self.author=author\n",
        "      self.title=title\n",
        "      self.year_published=year_published\n",
        "\n",
        "   def get_book_info(self):\n",
        "      return (f\"The book {self.title} is written by {self.author} in {self.year_published}.\")\n",
        "\n",
        "b1=Book(\"Pride and Prejudice\",\"Jane Austin\",1813)\n",
        "print(b1.get_book_info())\n"
      ],
      "metadata": {
        "colab": {
          "base_uri": "https://localhost:8080/"
        },
        "id": "a3S1Abfq-nPs",
        "outputId": "fe83e2ea-7635-4e98-b2f8-ba94b7ca2fe7"
      },
      "execution_count": 31,
      "outputs": [
        {
          "output_type": "stream",
          "name": "stdout",
          "text": [
            "The book Pride and Prejudice is written by Jane Austin in 1813.\n"
          ]
        }
      ]
    },
    {
      "cell_type": "code",
      "source": [
        "# Question 18--> Create a class House with attributes address and price. Create a derived class Mansion that adds an attribute number_of_rooms.\n",
        "class House:\n",
        "   def __init__(self,adress,price):\n",
        "      self.adress=adress\n",
        "      self.price=price\n",
        "class Mansion(House):\n",
        "   def __init__(self, adress, price,num_of_rooms):\n",
        "      super().__init__(adress, price)\n",
        "      self.num_of_rooms=num_of_rooms\n",
        "\n",
        "M1=Mansion(\"xyz\",2500000,5)\n",
        "print(M1.num_of_rooms)"
      ],
      "metadata": {
        "colab": {
          "base_uri": "https://localhost:8080/"
        },
        "id": "Ze6sa8NH-m9e",
        "outputId": "4d9dd32e-4980-4a07-cef2-a7bd11d29679"
      },
      "execution_count": 30,
      "outputs": [
        {
          "output_type": "stream",
          "name": "stdout",
          "text": [
            "5\n"
          ]
        }
      ]
    }
  ]
}