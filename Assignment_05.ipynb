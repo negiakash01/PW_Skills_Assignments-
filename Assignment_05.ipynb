{
  "nbformat": 4,
  "nbformat_minor": 0,
  "metadata": {
    "colab": {
      "provenance": []
    },
    "kernelspec": {
      "name": "python3",
      "display_name": "Python 3"
    },
    "language_info": {
      "name": "python"
    }
  },
  "cells": [
    {
      "cell_type": "markdown",
      "source": [
        "# Assignment 05- File and Exception Handling"
      ],
      "metadata": {
        "id": "srl8zoVwhTVq"
      }
    },
    {
      "cell_type": "markdown",
      "source": [
        "## Theory Answers"
      ],
      "metadata": {
        "id": "gOUQUVtNXR78"
      }
    },
    {
      "cell_type": "markdown",
      "source": [
        "### Question 01-->  What is the difference between interpreted and compiled languages?\n",
        "***Ans-->*** In compiled languages, the source code is transformed entirely into machine code by a compiler before execution, producing a standalone executable that the CPU can run directly. This approach usually offers faster execution speeds because the program is already translated into low-level instructions optimized for the processor.\n",
        "\n",
        "On the other hand, interpreted languages execute the source code directly, line by line, using an interpreter that translates instructions at runtime. While this allows for quicker code testing and easier debugging, it typically results in slower execution since the translation happens on the fly."
      ],
      "metadata": {
        "id": "sZ-khzPrXvcY"
      }
    },
    {
      "cell_type": "markdown",
      "source": [
        "### Question 02--> What is exception handling in Python?\n",
        "***Ans-->*** Exception handling in Python is a mechanism that allows a program to respond to and manage errors (exceptions) that occur during its execution, rather than abruptly crashing. Using special blocks such as try, except, else, and finally, Python programmers can write code that anticipates potential issues, catches specific exceptions when they arise, and defines alternative actions or cleanup code."
      ],
      "metadata": {
        "id": "KHKMjPI1XvYa"
      }
    },
    {
      "cell_type": "markdown",
      "source": [
        "### Question 03-->  What is the purpose of the finally block in exception handling?\n",
        "***Ans-->*** The purpose of the finally block in Python exception handling is to ensure that a specific section of code is always executed, regardless of whether an exception was raised or not. This makes it especially useful for cleanup activities such as closing files, releasing resources, or freeing up memory that must happen no matter what occurs during the execution of the try block. Even if an exception is caught in an except block or if no exceptions occur at all, the code inside the finally block will still run."
      ],
      "metadata": {
        "id": "eLJjs6T2XvTZ"
      }
    },
    {
      "cell_type": "markdown",
      "source": [
        "### Question 04--> What is logging in Python?\n",
        "***Ans-->*** Logging in Python is a mechanism that enables developers to track and record events that occur during the execution of a program. The built-in logging module allows writing these event messages, known as logs, to various outputs such as the console or files. These logs can capture different levels of severity, including DEBUG, INFO, WARNING, ERROR, and CRITICAL, helping developers monitor the flow of the program and diagnose issues."
      ],
      "metadata": {
        "id": "MVz-zKSQXvOZ"
      }
    },
    {
      "cell_type": "markdown",
      "source": [
        "### Question 05-->  What is the significance of the __del__ method in Python?\n",
        "***Ans-->*** The __del__ method in Python is a special method known as a destructor, which is called when an object is about to be destroyed or garbage collected. It allows developers to define cleanup actions that should be performed just before the object is removed from memory, such as releasing external resources like open files, network connections, or database sessions."
      ],
      "metadata": {
        "id": "J96fkLOlXvKR"
      }
    },
    {
      "cell_type": "markdown",
      "source": [
        "### Question 06--> What is the difference between import and from ... import in Python?\n",
        "***Ans-->*** The difference between import and from ... import in Python lies in how modules and their components are brought into the current namespace. Using import module_name imports the whole module as a single object, so you access its functions or classes with the module name as a prefix, like module_name.function().\n",
        "\n",
        " On the other hand, from module_name import something imports specific attributes, functions, or classes directly into the current namespace, allowing you to use something() without the module prefix."
      ],
      "metadata": {
        "id": "af61zor-XvFa"
      }
    },
    {
      "cell_type": "markdown",
      "source": [
        "Question 07--> How can you handle multiple exceptions in Python?\n",
        "\n",
        "Ans-->\n",
        "In Python, multiple exceptions can be handled either in a single except block or with multiple except blocks.\n",
        "\n",
        "1. Single except block for related exceptions\n",
        "Use a tuple to specify multiple exceptions that share the same handling logic.\n",
        "2. Multiple except blocks for specific handlers\n",
        "You can use multiple except clauses if you want to handle each exception in its own way"
      ],
      "metadata": {
        "id": "pmIeNCg1XvBU"
      }
    },
    {
      "cell_type": "markdown",
      "source": [
        "### Question 08-->  What is the purpose of the with statement when handling files in Python?\n",
        "***Ans-->*** The purpose of the with statement when handling files in Python is to simplify and automate resource management, specifically ensuring that the file is properly closed after its use—even if an error occurs."
      ],
      "metadata": {
        "id": "WF2m5kWgXu9A"
      }
    },
    {
      "cell_type": "markdown",
      "source": [
        "### Question 09--> What is the difference between multithreading and multiprocessing?\n",
        "***Ans-->*** Multithreading\n",
        "\n",
        "Runs multiple threads within a single process.\n",
        "\n",
        "Threads share the same memory space of their parent process.\n",
        "\n",
        "Best for I/O-bound tasks (networking, file access) where program waits for input/output.\n",
        "\n",
        "In Python, due to the Global Interpreter Lock (GIL), threads cannot execute Python bytecode in true parallel—so performance boost is mainly for tasks that spend time waiting.\n",
        "\n",
        "Lighter on system resources; easier sharing of data between threads.\n",
        "\n",
        "Multiprocessing\n",
        "\n",
        "Runs multiple processes, each with its own memory space and Python interpreter instance.\n",
        "\n",
        "Achieves true parallelism by running on multiple CPU cores.\n",
        "\n",
        "Best for CPU-bound tasks (heavy computations).\n",
        "\n",
        "Each process is independent; communication between processes is more complex.\n",
        "\n",
        "Can fully utilize multi-core CPUs and sidestep the GIL restriction."
      ],
      "metadata": {
        "id": "pmj_mYzoXu4q"
      }
    },
    {
      "cell_type": "markdown",
      "source": [
        "### Question 10--> What are the advantages of using logging in a program?\n",
        "***Ans-->*** Using logging in a Python program offers several important advantages compared to just using print statements:\n",
        "\n",
        "Key Advantages\n",
        "\n",
        "Error Detection & Debugging: Logging records both errors and other events, allowing easier troubleshooting and root-cause analysis when something goes wrong.\n",
        "\n",
        "Permanent Record: Logs can be saved to files or remote servers, creating an audit trail of events for future review or regulatory compliance.\n",
        "\n",
        "Flexible Output Control: Different logging levels (DEBUG, INFO, WARNING, ERROR, CRITICAL) allow control over the amount and importance of information shown or stored."
      ],
      "metadata": {
        "id": "GaH4HdwRXuzp"
      }
    },
    {
      "cell_type": "markdown",
      "source": [
        "### Question 11--> What is memory management in Python?\n",
        "***Ans-->*** Memory management in Python is the process of allocating, tracking, and releasing memory for objects during program execution. Python automatically manages memory using mechanisms like reference counting and garbage collection, so programmers do not have to manually allocate or free memory as in languages like C or C++."
      ],
      "metadata": {
        "id": "Y0Wf3fTpXuvD"
      }
    },
    {
      "cell_type": "markdown",
      "source": [
        "### Question 12--> What are the basic steps involved in exception handling in Python?\n",
        "***Ans-->*** The basic steps involved in exception handling in Python are:\n",
        "\n",
        "try block: Write the code that might raise an exception inside the try block. This is the risky code that you want to monitor for errors.\n",
        "\n",
        "except block: Handle one or multiple exceptions in the except block(s). You catch specific exceptions to manage or recover from them gracefully.\n",
        "\n",
        "else block (optional): Code inside the else block runs only if no exceptions were raised in the try block. This is useful for code that should execute only if the try succeeds.\n",
        "\n",
        "finally block (optional): Code inside the finally block runs no matter what — whether an exception was raised or not. It's used for cleanup activities like closing files or releasing resources."
      ],
      "metadata": {
        "id": "-kDNFw8dXup5"
      }
    },
    {
      "cell_type": "markdown",
      "source": [
        "### Question 13--> Why is memory management important in Python?\n",
        "***Ans-->*** Memory management in Python is important because it enables efficient use of system memory while ensuring the smooth execution of programs."
      ],
      "metadata": {
        "id": "4lZY80dNXulb"
      }
    },
    {
      "cell_type": "markdown",
      "source": [
        "### Question 14--> What is the role of try and except in exception handling?\n",
        "***Ans-->*** try block: Write the code that might raise an exception inside the try block. This is the risky code that you want to monitor for errors.\n",
        "\n",
        "except block: Handle one or multiple exceptions in the except block(s). You catch specific exceptions to manage or recover from them gracefully."
      ],
      "metadata": {
        "id": "sCH8Y-JtXugh"
      }
    },
    {
      "cell_type": "markdown",
      "source": [
        "### Question 15-->How does Python's garbage collection system work?\n",
        "***Ans-->*** Python's garbage collection system works by automatically managing the allocation and deallocation of memory for objects that are no longer in use."
      ],
      "metadata": {
        "id": "TIrTGfFeXub4"
      }
    },
    {
      "cell_type": "markdown",
      "source": [
        "### Question 16--> What is the purpose of the else block in exception handling?\n",
        "***Ans-->*** The purpose of the else block in Python exception handling is to contain code that should only execute if no exceptions were raised in the preceding try block."
      ],
      "metadata": {
        "id": "vu3UjiGGXuXR"
      }
    },
    {
      "cell_type": "markdown",
      "source": [
        "### Question 17-->  What are the common logging levels in Python?\n",
        "***Ans-->*** Common Python Logging Levels (from lowest to highest severity):\n",
        "\n",
        "DEBUG\n",
        "\n",
        "Detailed information, typically of interest only when diagnosing problems.\n",
        "\n",
        "INFO\n",
        "\n",
        "Confirmations that things are working as expected.\n",
        "\n",
        "WARNING\n",
        "\n",
        "An indication that something unexpected happened, or indicative of some problem in the near future (e.g., ‘disk space low’). The software is still working as expected.\n",
        "\n",
        "ERROR\n",
        "\n",
        "A more serious problem that caused some functionality to fail.\n",
        "\n",
        "CRITICAL\n",
        "\n",
        "A very serious error, indicating that the program itself may be unable to continue running."
      ],
      "metadata": {
        "id": "faWvbes4XuSg"
      }
    },
    {
      "cell_type": "markdown",
      "source": [
        "### Question 18--> What is the difference between os.fork() and multiprocessing in Python?\n",
        "***Ans-->*** ***os.fork()***\n",
        "\n",
        "It is a low-level system call available only on Unix-based OSes (Linux, macOS).\n",
        "\n",
        "os.fork() creates a child process by duplicating the current process at the moment of forking.\n",
        "\n",
        "The child process is almost an exact copy of the parent, sharing the same memory space initially.\n",
        "\n",
        "After forking, both processes run independently; the child gets a return value of 0, and the parent gets the child's PID.\n",
        "\n",
        "Requires manual handling of process communication and synchronization.\n",
        "\n",
        "It is not supported on Windows.\n",
        "\n",
        "\n",
        "***multiprocessing module***\n",
        "\n",
        "A high-level, cross-platform API for creating and managing independent processes.\n",
        "\n",
        "It internally uses os.fork() on Unix but uses other mechanisms (like spawning) on Windows.\n",
        "\n",
        "Provides easy-to-use classes (Process) and synchronization primitives (Queue, Pipe, Locks).\n",
        "\n",
        "Supports data sharing, communication, and process lifecycle management.\n",
        "\n",
        "Works on Unix, Windows, and other platforms.\n"
      ],
      "metadata": {
        "id": "0K76Nh2pXuNh"
      }
    },
    {
      "cell_type": "markdown",
      "source": [
        "### Question 19--> What is the importance of closing a file in Python?\n",
        "***Ans-->*** Closing a file in Python is crucial because it ensures efficient management of system resources and maintains data integrity. When a file is opened, it consumes system resources like memory and file descriptors, which are limited. If files are not closed properly after use, these resources remain allocated, potentially leading to resource exhaustion that can cause your program or even the entire system to slow down or crash. Additionally, file operations often use internal buffers to optimize reading and writing processes. Closing the file guarantees that all buffered data is flushed and physically written to disk, preventing data loss or corruption."
      ],
      "metadata": {
        "id": "jvbl9LjvXuIy"
      }
    },
    {
      "cell_type": "markdown",
      "source": [
        "### Question 20--> What is the difference between file.read() and file.readline() in Python?\n",
        "***Ans-->***  The file.read() method reads the entire content of the file (or up to a specified number of characters) and returns it as a single string. This method is useful when you want to load the whole file into memory at once.\n",
        "\n",
        " On the other hand, the file.readline() method reads only the next single line from the file each time it is called, stopping at the newline character \\n. This makes readline() suitable for reading large files line-by-line without loading the entire file into memory."
      ],
      "metadata": {
        "id": "gOXPDdYsXuC5"
      }
    },
    {
      "cell_type": "markdown",
      "source": [
        "### Question 21--> What is the logging module in Python used for?\n",
        "***Ans-->*** The logging module in Python is used for tracking events that happen while software runs, providing a powerful and flexible way to log messages for applications. It allows developers to record information about program execution, errors, warnings, debugging details, and other important events. The module supports various logging levels—such as DEBUG, INFO, WARNING, ERROR, and CRITICAL—enabling fine control over what kinds of messages are captured and displayed. Logs can be directed to different destinations, including console output, files, or remote log servers. Using the logging module helps developers monitor application behavior, trace issues, perform root-cause analysis, and maintain audit trails for compliance."
      ],
      "metadata": {
        "id": "kOE41hrTXt-Q"
      }
    },
    {
      "cell_type": "markdown",
      "source": [
        "### Question 22--> What is the os module in Python used for in file handling?\n",
        "\n",
        "***Ans-->*** The os module in Python is used for interacting with the operating system and provides various functions to perform file handling operations. It allows you to work with files and directories in a lower-level and more system-oriented way than the built-in open() function alone. Using the os module, you can create and remove directories, rename files, check if a file exists, get file metadata such as size and permissions, and change file permissions."
      ],
      "metadata": {
        "id": "JHoXFrDjXt3b"
      }
    },
    {
      "cell_type": "markdown",
      "source": [
        "### Question 23--> What are the challenges associated with memory management in Python?\n",
        "***Ans-->*** Memory management in Python, while mostly automated, comes with certain challenges. One key issue is dealing with circular references, where objects reference each other, preventing the reference count from dropping to zero and thus delaying memory release. Although Python’s garbage collector can detect and clean up these cycles, they still can cause memory leaks if not handled properly. Another challenge is memory fragmentation and inefficient allocation, which can reduce application performance and increase memory usage over time."
      ],
      "metadata": {
        "id": "YB-XicvRXtz5"
      }
    },
    {
      "cell_type": "markdown",
      "source": [
        "### Question 24--> How do you raise an exception manually in Python?\n",
        "***Ans-->*** In Python, you can manually raise an exception using the raise statement. This allows you to signal errors or unusual conditions in your code explicitly. The basic syntax is raise ExceptionType(\"error message\"), where ExceptionType can be any built-in or custom exception class. For example, raise ValueError(\"Invalid input\") raises a ValueError with a custom message. Raising exceptions manually is useful for validating inputs, enforcing constraints, or signaling unexpected situations in your programs."
      ],
      "metadata": {
        "id": "HPgTkQ9RXR4T"
      }
    },
    {
      "cell_type": "markdown",
      "source": [
        "### Question 25-->  Why is it important to use multithreading in certain applications?\n",
        "***Ans-->*** Multithreading is important in certain applications because it allows multiple tasks to be executed concurrently, improving the overall performance and responsiveness of an application. It is especially beneficial in scenarios where tasks involve waiting for I/O operations, such as reading files, network communication, or interacting with databases, because while one thread is waiting, others can continue processing. This leads to better resource utilization and faster program execution."
      ],
      "metadata": {
        "id": "A-ihDdVmXRtY"
      }
    },
    {
      "cell_type": "markdown",
      "source": [
        "## Practical Answers\n",
        "\n",
        "\n",
        "\n"
      ],
      "metadata": {
        "id": "MKfuSkCicpuA"
      }
    },
    {
      "cell_type": "code",
      "source": [
        "# Question 01--> How can you open a file for writing in Python and write a string to it\n",
        "with open(\"example.txt\", \"w\") as file:\n",
        "    file.write(\"Hello, world!\")\n"
      ],
      "metadata": {
        "id": "v-KGAFnncqMj"
      },
      "execution_count": 3,
      "outputs": []
    },
    {
      "cell_type": "code",
      "source": [
        "# Question 02--> Write a Python program to read the contents of a file and print each line\n",
        "with open(\"example.txt\", \"r\") as file:\n",
        "    for line in file:\n",
        "        print(line.strip())"
      ],
      "metadata": {
        "id": "3xSmxU5_dRCE"
      },
      "execution_count": null,
      "outputs": []
    },
    {
      "cell_type": "code",
      "source": [
        "# Question 03--> How would you handle a case where the file doesn't exist while trying to open it for reading\n",
        "try:\n",
        "    with open(\"non_existent_file.txt\", \"r\") as file:\n",
        "        content = file.read()\n",
        "        print(content)\n",
        "except FileNotFoundError:\n",
        "    print(\"The file does not exist.\")"
      ],
      "metadata": {
        "id": "rlgjCCbzdQ48",
        "colab": {
          "base_uri": "https://localhost:8080/"
        },
        "outputId": "2f1a3a81-0a02-44f4-ad4d-a2798f6e9044"
      },
      "execution_count": 1,
      "outputs": [
        {
          "output_type": "stream",
          "name": "stdout",
          "text": [
            "The file does not exist.\n"
          ]
        }
      ]
    },
    {
      "cell_type": "code",
      "source": [
        "# Question 04--> Write a Python script that reads from one file and writes its content to another file\n",
        "with open(\"source.txt\", \"r\") as source_file:\n",
        "    content = source_file.read()\n",
        "\n",
        "with open(\"destination.txt\", \"w\") as destination_file:\n",
        "    destination_file.write(content)"
      ],
      "metadata": {
        "id": "voUL4qRidQx7"
      },
      "execution_count": null,
      "outputs": []
    },
    {
      "cell_type": "code",
      "source": [
        "# Question 05-->  How would you catch and handle division by zero error in Python\n",
        "try:\n",
        "    result = 10 / 0\n",
        "except ZeroDivisionError:\n",
        "    print(\"Error: Division by zero\")"
      ],
      "metadata": {
        "id": "np8ZnEyOdQqy"
      },
      "execution_count": null,
      "outputs": []
    },
    {
      "cell_type": "code",
      "source": [
        "# Question 06--> Write a Python program that logs an error message to a log file when a division by zero exception occurs\n",
        "import logging\n",
        "\n",
        "logging.basicConfig(filename=\"error.log\", level=logging.ERROR)\n",
        "\n",
        "try:\n",
        "    result = 10 / 0\n",
        "except ZeroDivisionError:\n",
        "    logging.error(\"Division by zero error occurred\")"
      ],
      "metadata": {
        "id": "hk1ZrUBvdQkR"
      },
      "execution_count": null,
      "outputs": []
    },
    {
      "cell_type": "code",
      "source": [
        "# Question 07-->  How do you log information at different levels (INFO, ERROR, WARNING) in Python using the logging module\n",
        "import logging\n",
        "\n",
        "logging.basicConfig(level=logging.INFO)\n",
        "logging.info(\"This is an info message\")\n",
        "\n",
        "logging.basicConfig(level=logging.WARNING)\n",
        "logging.warning(\"This is a warning message\")"
      ],
      "metadata": {
        "id": "yvI2VCnzdQdD"
      },
      "execution_count": null,
      "outputs": []
    },
    {
      "cell_type": "code",
      "source": [
        "# Question 08-->Write a program to handle a file opening error using exception handling\n",
        "try:\n",
        "    with open(\"non_existent_file.txt\", \"r\") as file:\n",
        "        content = file.read()\n",
        "        print(content)\n",
        "except FileNotFoundError:\n",
        "    print(\"The file does not exist.\")"
      ],
      "metadata": {
        "id": "Nxc8kNp8dQWp"
      },
      "execution_count": null,
      "outputs": []
    },
    {
      "cell_type": "code",
      "source": [
        "# Question 09--> How can you read a file line by line and store its content in a list in Python\n",
        "with open(\"example.txt\", \"r\") as file:\n",
        "    lines = file.readlines()\n",
        "    for line in lines:\n",
        "        print(line.strip())"
      ],
      "metadata": {
        "id": "xk7zZivUdQQU"
      },
      "execution_count": null,
      "outputs": []
    },
    {
      "cell_type": "code",
      "source": [
        "# Question 10--> How can you append data to an existing file in Python\n",
        "with open(\"example.txt\", \"a\") as file:\n",
        "    file.write(\"\\nAppended line.\")"
      ],
      "metadata": {
        "id": "gWSo9g75dQKD"
      },
      "execution_count": null,
      "outputs": []
    },
    {
      "cell_type": "code",
      "source": [
        "# Question 11--> Write a Python program that uses a try-except block to handle an error when attempting to access a\n",
        "# dictionary key that doesn't exist\n",
        "try:\n",
        "    my_dict = {\"key\": \"value\"}\n",
        "    value = my_dict[\"non_existent_key\"]\n",
        "except KeyError:\n",
        "    print(\"Error: Key not found in the dictionary.\")"
      ],
      "metadata": {
        "id": "UI92WxcpdQEJ"
      },
      "execution_count": null,
      "outputs": []
    },
    {
      "cell_type": "code",
      "source": [
        "# Question 12-->  Write a program that demonstrates using multiple except blocks to handle different types of exceptions\n",
        "try:\n",
        "    result = 10 / 0\n",
        "except ZeroDivisionError:\n",
        "    print(\"Error: Division by zero\")\n",
        "except ValueError:\n",
        "    print(\"Error: Invalid value\")\n",
        "except Exception as e:\n",
        "    print(f\"An unexpected error occurred: {e}\")"
      ],
      "metadata": {
        "id": "YClt4yAYdP8y"
      },
      "execution_count": null,
      "outputs": []
    },
    {
      "cell_type": "code",
      "source": [
        "# Question 13--> How would you check if a file exists before attempting to read it in Python\n",
        "import os\n",
        "\n",
        "if os.path.exists(\"example.txt\"):\n",
        "    with open(\"example.txt\", \"r\") as file:\n",
        "        content = file.read()\n",
        "        print(content)\n",
        "else:\n",
        "    print(\"The file does not exist.\")"
      ],
      "metadata": {
        "id": "F2_3kuG-dP06"
      },
      "execution_count": null,
      "outputs": []
    },
    {
      "cell_type": "code",
      "source": [
        "# Question 14-->  Write a program that uses the logging module to log both informational and error messages\n",
        "import logging\n",
        "\n",
        "logging.basicConfig(level=logging.INFO)\n",
        "logging.info(\"This is an info message\")\n",
        "\n",
        "logging.basicConfig(level=logging.ERROR)\n",
        "logging.error(\"This is an error message\")"
      ],
      "metadata": {
        "id": "8Rw8To5TdPta"
      },
      "execution_count": null,
      "outputs": []
    },
    {
      "cell_type": "code",
      "source": [
        "# Question 15-->  Write a Python program that prints the content of a file and handles the case when the file is empty\n",
        "try:\n",
        "    with open(\"example.txt\", \"r\") as file:\n",
        "        content = file.read()\n",
        "        if content:\n",
        "            print(content)\n",
        "        else:\n",
        "            print(\"The file is empty.\")"
      ],
      "metadata": {
        "id": "qeNwnE9hdPlo"
      },
      "execution_count": null,
      "outputs": []
    },
    {
      "cell_type": "code",
      "source": [
        "# Question 16--> Demonstrate how to use memory profiling to check the memory usage of a small program\n"
      ],
      "metadata": {
        "id": "X16mqS_rdPdC"
      },
      "execution_count": null,
      "outputs": []
    },
    {
      "cell_type": "code",
      "source": [
        "# Question 17--> Write a Python program to create and write a list of numbers to a file, one number per line\n",
        "with open(\"numbers.txt\", \"w\") as file:\n",
        "    numbers = [1, 2, 3, 4, 5]\n",
        "    for num in numbers:\n",
        "        file.write(str(num) + \"\\n\")"
      ],
      "metadata": {
        "id": "0bJ6CYPLdPVr"
      },
      "execution_count": null,
      "outputs": []
    },
    {
      "cell_type": "code",
      "source": [
        "# Question 18--> How would you implement a basic logging setup that logs to a file with rotation after 1MB\n"
      ],
      "metadata": {
        "id": "CWbW6kH8dPOB"
      },
      "execution_count": null,
      "outputs": []
    },
    {
      "cell_type": "code",
      "source": [
        "# Question 19-->  Write a program that handles both IndexError and KeyError using a try-except block\n",
        "try:\n",
        "    my_list = [1, 2, 3]\n",
        "    value = my_list[3]\n",
        "except IndexError:\n",
        "    print(\"Error: Index out of range\")\n",
        "except KeyError:\n",
        "    print(\"Error: Key not found in the dictionary\")"
      ],
      "metadata": {
        "id": "xny5UmAidPHM"
      },
      "execution_count": null,
      "outputs": []
    },
    {
      "cell_type": "code",
      "source": [
        "# Question 20--> How would you open a file and read its contents using a context manager in Python\n",
        "with open(\"example.txt\", \"r\") as file:\n",
        "    content = file.read()\n",
        "    print(content)"
      ],
      "metadata": {
        "id": "YhEWBGAudPAJ"
      },
      "execution_count": null,
      "outputs": []
    },
    {
      "cell_type": "code",
      "source": [
        "# Question 21--> Write a Python program that reads a file and prints the number of occurrences of a specific word\n",
        "with open(\"example.txt\", \"r\") as file:\n",
        "    content = file.read()\n",
        "    word_count = content.count(\"example\")\n",
        "    print(f\"The word 'example' appears {word_count} times in the file.\")"
      ],
      "metadata": {
        "id": "81AHiM0bdO4y"
      },
      "execution_count": null,
      "outputs": []
    },
    {
      "cell_type": "code",
      "source": [
        "# Question 22--> How can you check if a file is empty before attempting to read its contents\n",
        "with open(\"example.txt\", \"r\") as file:\n",
        "    content = file.read()\n",
        "    if content:\n",
        "        print(content)\n",
        "    else:\n",
        "        print(\"The file is empty.\")"
      ],
      "metadata": {
        "id": "RJooxwUsdOxC"
      },
      "execution_count": null,
      "outputs": []
    },
    {
      "cell_type": "code",
      "source": [
        "# Question 23-->  Write a Python program that writes to a log file when an error occurs during file handling\n",
        "import logging\n",
        "try:\n",
        "    with open(\"non_existent_file.txt\", \"r\") as file:\n",
        "        content = file.read()\n",
        "        print(content)\n",
        "except FileNotFoundError:\n",
        "    logging.error(\"File not found: non_existent_file.txt\")\n",
        "\n"
      ],
      "metadata": {
        "id": "iZ1a60lodOpx"
      },
      "execution_count": null,
      "outputs": []
    }
  ]
}